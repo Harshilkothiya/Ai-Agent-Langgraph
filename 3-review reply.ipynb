{
 "cells": [
  {
   "cell_type": "code",
   "execution_count": 1,
   "id": "6f965e74",
   "metadata": {},
   "outputs": [],
   "source": [
    "from langgraph.graph import StateGraph, START, END\n",
    "from langchain_openai import ChatOpenAI\n",
    "from typing import TypedDict, Literal\n",
    "from dotenv import load_dotenv\n",
    "from pydantic import BaseModel, Field\n",
    "from model import model"
   ]
  },
  {
   "cell_type": "code",
   "execution_count": 2,
   "id": "b73d4b97",
   "metadata": {},
   "outputs": [],
   "source": [
    "class SentimentSchema(BaseModel):\n",
    "    sentiment: Literal[\"positive\", \"negative\"] = Field(description='Sentiment of the review')"
   ]
  },
  {
   "cell_type": "code",
   "execution_count": 3,
   "id": "c726ca77",
   "metadata": {},
   "outputs": [],
   "source": [
    "class DiagnosisSchema(BaseModel):\n",
    "    issue_type: Literal[\"UX\", \"Performance\", \"Bug\", \"Support\", \"Other\"] = Field(description='The category of issue mentioned in the review')\n",
    "    tone: Literal[\"angry\", \"frustrated\", \"disappointed\", \"calm\"] = Field(description='The emotional tone expressed by the user')\n",
    "    urgency: Literal[\"low\", \"medium\", \"high\"] = Field(description='How urgent or critical the issue appears to be')"
   ]
  },
  {
   "cell_type": "code",
   "execution_count": 4,
   "id": "9396909d",
   "metadata": {},
   "outputs": [],
   "source": [
    "structured_model1 = model.with_structured_output(SentimentSchema)\n",
    "structured_model2 = model.with_structured_output(DiagnosisSchema)\n"
   ]
  },
  {
   "cell_type": "code",
   "execution_count": 5,
   "id": "3e231ee4",
   "metadata": {},
   "outputs": [],
   "source": [
    "class ReviewState(TypedDict):\n",
    "    review: str\n",
    "    sentiment: Literal[\"positive\", \"negative\"]\n",
    "    diagnosis: dict\n",
    "    response: str"
   ]
  },
  {
   "cell_type": "code",
   "execution_count": 6,
   "id": "76525950",
   "metadata": {},
   "outputs": [],
   "source": [
    "def review_sentiment(state:ReviewState):\n",
    "\n",
    "    prompt = f'For the following review find out the sentiment \\n {state[\"review\"]}'\n",
    "    sentiment = structured_model1.invoke(prompt).sentiment\n",
    "\n",
    "    return {'sentiment': sentiment}"
   ]
  },
  {
   "cell_type": "code",
   "execution_count": 7,
   "id": "50255a1f",
   "metadata": {},
   "outputs": [],
   "source": [
    "def positive_review(state:ReviewState):\n",
    "\n",
    "    prompt = f\"\"\"Write a warm thank-you message in response to this review:\n",
    "    \\n\\n\\\"{state['review']}\\\"\\n\n",
    "Also, kindly ask the user to leave feedback on our website.\"\"\"\n",
    "    \n",
    "    response = model.invoke(prompt).content\n",
    "\n",
    "    return {'response': response}"
   ]
  },
  {
   "cell_type": "code",
   "execution_count": 9,
   "id": "0596ff4c",
   "metadata": {},
   "outputs": [],
   "source": [
    "def diagnose_issue(state: ReviewState):\n",
    "    prompt = f\"\"\"Diagnose this negative review:\\n\\n{state['review']}\\n\"\n",
    "    \"Return issue_type, tone, and urgency.\n",
    "\"\"\"\n",
    "    response = structured_model2.invoke(prompt)\n",
    "\n",
    "    return {'diagnosis': response.model_dump()}"
   ]
  },
  {
   "cell_type": "code",
   "execution_count": 10,
   "id": "5661f25c",
   "metadata": {},
   "outputs": [],
   "source": [
    "def negative_review(state: ReviewState):\n",
    "    diagnosis = state['diagnosis']\n",
    "\n",
    "    prompt = f\"\"\"You are a support assistant.\n",
    "The user had a '{diagnosis['issue_type']}' issue, sounded '{diagnosis['tone']}', and marked urgency as '{diagnosis['urgency']}'.\n",
    "Write an empathetic, helpful resolution message.\n",
    "\"\"\"\n",
    "    response = model.invoke(prompt).content\n",
    "\n",
    "    return {'response': response}"
   ]
  },
  {
   "cell_type": "code",
   "execution_count": 17,
   "id": "a517826f",
   "metadata": {},
   "outputs": [],
   "source": [
    "def check_sentiment(state: ReviewState)->Literal[\"positive_review\", 'diagnose_issue']:\n",
    "    if(state['review'] == 'pisitive'):\n",
    "        return 'positive_response'\n",
    "    else:\n",
    "        return 'diagnose_issue'"
   ]
  },
  {
   "cell_type": "code",
   "execution_count": 18,
   "id": "789db44f",
   "metadata": {},
   "outputs": [
    {
     "data": {
      "text/plain": [
       "<langgraph.graph.state.StateGraph at 0x1e1e01edb50>"
      ]
     },
     "execution_count": 18,
     "metadata": {},
     "output_type": "execute_result"
    }
   ],
   "source": [
    "graph = StateGraph(ReviewState)\n",
    "\n",
    "graph.add_node('review_sentiment', review_sentiment)\n",
    "graph.add_node('positive_review', positive_review)\n",
    "graph.add_node('diagnose_issue', diagnose_issue)\n",
    "graph.add_node('negative_review', negative_review)\n",
    "\n",
    "#edges\n",
    "graph.add_edge(START, 'review_sentiment')\n",
    "\n",
    "graph.add_conditional_edges('review_sentiment', check_sentiment)\n",
    "\n",
    "graph.add_edge('positive_review', END)\n",
    "\n",
    "graph.add_edge('diagnose_issue', 'negative_review')\n",
    "graph.add_edge('negative_review', END)\n"
   ]
  },
  {
   "cell_type": "code",
   "execution_count": 19,
   "id": "48facbd2",
   "metadata": {},
   "outputs": [],
   "source": [
    "workflow = graph.compile()"
   ]
  },
  {
   "cell_type": "code",
   "execution_count": 20,
   "id": "16890ad8",
   "metadata": {},
   "outputs": [
    {
     "data": {
      "image/png": "[encoded data removed]",
      "text/plain": [
       "<langgraph.graph.state.CompiledStateGraph object at 0x000001E1E2D8D4F0>"
      ]
     },
     "execution_count": 20,
     "metadata": {},
     "output_type": "execute_result"
    }
   ],
   "source": [
    "workflow"
   ]
  },
  {
   "cell_type": "code",
   "execution_count": 21,
   "id": "da74e5d4",
   "metadata": {},
   "outputs": [
    {
     "data": {
      "text/plain": [
       "{'review': 'I’ve been trying to log in for over an hour now, and the app keeps freezing on the authentication screen. I even tried reinstalling it, but no luck. This kind of bug is unacceptable, especially when it affects basic functionality.',\n",
       " 'sentiment': 'negative',\n",
       " 'diagnosis': {'issue_type': 'Bug', 'tone': 'frustrated', 'urgency': 'high'},\n",
       " 'response': \"Subject: Good News: Your High-Priority Bug Has Been Resolved!\\n\\nHi [User Name],\\n\\nI'm truly sorry to hear you encountered that bug, and I completely understand how frustrating and disruptive this must have been, especially given the high urgency you reported. Dealing with unexpected issues is never ideal, and we appreciate you bringing this to our attention so quickly.\\n\\nI'm happy to confirm that our team has successfully identified and deployed a fix for the issue you reported. We've thoroughly tested it on our end, and it appears to be resolved.\\n\\nCould you please take a moment to check on your end and confirm that everything is now working as expected?\\n\\nWe're also taking steps to review our processes and prevent similar issues from occurring in the future. Your feedback is invaluable in helping us improve.\\n\\nPlease don't hesitate to reach out immediately if you experience any further problems or have any questions. We're here to help.\\n\\nThank you for your patience and for helping us make our product better.\\n\\nBest regards,\\n\\n[Your Name/Support Team]\"}"
      ]
     },
     "execution_count": 21,
     "metadata": {},
     "output_type": "execute_result"
    }
   ],
   "source": [
    "intial_state={\n",
    "    'review': \"I’ve been trying to log in for over an hour now, and the app keeps freezing on the authentication screen. I even tried reinstalling it, but no luck. This kind of bug is unacceptable, especially when it affects basic functionality.\"\n",
    "}\n",
    "workflow.invoke(intial_state)"
   ]
  }
 ],
 "metadata": {
  "kernelspec": {
   "display_name": "Python 3",
   "language": "python",
   "name": "python3"
  },
  "language_info": {
   "codemirror_mode": {
    "name": "ipython",
    "version": 3
   },
   "file_extension": ".py",
   "mimetype": "text/x-python",
   "name": "python",
   "nbconvert_exporter": "python",
   "pygments_lexer": "ipython3",
   "version": "3.12.4"
  }
 },
 "nbformat": 4,
 "nbformat_minor": 5
}
