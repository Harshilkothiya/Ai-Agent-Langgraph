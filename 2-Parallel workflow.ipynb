{
 "cells": [
  {
   "cell_type": "code",
   "execution_count": 60,
   "id": "160049e3",
   "metadata": {},
   "outputs": [
    {
     "data": {
      "text/plain": [
       "True"
      ]
     },
     "execution_count": 60,
     "metadata": {},
     "output_type": "execute_result"
    }
   ],
   "source": [
    "from model import model\n",
    "from langgraph.graph import StateGraph, START, END\n",
    "from typing import TypedDict\n",
    "from dotenv import load_dotenv\n",
    "\n",
    "load_dotenv()"
   ]
  },
  {
   "cell_type": "code",
   "execution_count": 61,
   "id": "d29d1dbe",
   "metadata": {},
   "outputs": [],
   "source": [
    "model = model"
   ]
  },
  {
   "cell_type": "code",
   "execution_count": 62,
   "id": "64d7f723",
   "metadata": {},
   "outputs": [],
   "source": [
    "class Batsman(TypedDict):\n",
    "    run : int\n",
    "    balls : int\n",
    "    fours: int\n",
    "    sixes : int\n",
    "\n",
    "    sr: float\n",
    "    bpb: float\n",
    "    boundary_percent : float\n",
    "    summary : str"
   ]
  },
  {
   "cell_type": "code",
   "execution_count": 63,
   "id": "14d9d401",
   "metadata": {},
   "outputs": [],
   "source": [
    "def cal_sr(state: Batsman):\n",
    "\n",
    "    sr = (state['run'] / state['balls']) * 100    \n",
    "    \n",
    "    return {'sr':sr}"
   ]
  },
  {
   "cell_type": "code",
   "execution_count": 64,
   "id": "abcc1e94",
   "metadata": {},
   "outputs": [],
   "source": [
    "def cal_bpb(state: Batsman):\n",
    "\n",
    "    bpb = state['balls']/(state['fours'] + state['sixes'])\n",
    "\n",
    "    return {'bpb': bpb}"
   ]
  },
  {
   "cell_type": "code",
   "execution_count": 65,
   "id": "54bd63b9",
   "metadata": {},
   "outputs": [],
   "source": [
    "def cal_boundary_percent(state: Batsman):\n",
    "\n",
    "    boundary_percent = (((state['fours'] * 4) + (state['sixes'] * 6))/state['run'])*100\n",
    "\n",
    "\n",
    "    return {'boundary_percent' : boundary_percent}"
   ]
  },
  {
   "cell_type": "code",
   "execution_count": 66,
   "id": "87df532d",
   "metadata": {},
   "outputs": [],
   "source": [
    "def summary(state: Batsman):\n",
    "\n",
    "    summary = f\"\"\"\n",
    "        Strike Rate - {state['sr']} \\n\n",
    "        Balls per boundary - {state['bpb']} \\n\n",
    "        Boundary percent - {state['boundary_percent']}\n",
    "    \"\"\"\n",
    "\n",
    "    state['summary'] = summary\n",
    "    return state"
   ]
  },
  {
   "cell_type": "code",
   "execution_count": 67,
   "id": "d3892a5b",
   "metadata": {},
   "outputs": [
    {
     "data": {
      "text/plain": [
       "<langgraph.graph.state.StateGraph at 0x1dedeef9e50>"
      ]
     },
     "execution_count": 67,
     "metadata": {},
     "output_type": "execute_result"
    }
   ],
   "source": [
    "graph = StateGraph(Batsman)\n",
    "\n",
    "graph.add_node('cal_sr', cal_sr)\n",
    "graph.add_node('cal_bpb', cal_bpb)\n",
    "graph.add_node('cal_boundary_percent', cal_boundary_percent)\n",
    "graph.add_node('summary', summary)\n",
    "\n",
    "# edges\n",
    "graph.add_edge(START, 'cal_sr')\n",
    "graph.add_edge(START, 'cal_bpb')\n",
    "graph.add_edge(START, 'cal_boundary_percent')\n",
    "graph.add_edge('cal_sr', 'summary')\n",
    "graph.add_edge('cal_bpb', 'summary')\n",
    "graph.add_edge('cal_boundary_percent', 'summary')\n",
    "graph.add_edge('summary', END)"
   ]
  },
  {
   "cell_type": "code",
   "execution_count": 68,
   "id": "6fe5b563",
   "metadata": {},
   "outputs": [],
   "source": [
    "workflow = graph.compile()"
   ]
  },
  {
   "cell_type": "code",
   "execution_count": 69,
   "id": "392ca5fe",
   "metadata": {},
   "outputs": [
    {
     "data": {
      "image/png": "[encoded data removed]",
      "text/plain": [
       "<langgraph.graph.state.CompiledStateGraph object at 0x000001DEDEEF8980>"
      ]
     },
     "execution_count": 69,
     "metadata": {},
     "output_type": "execute_result"
    }
   ],
   "source": [
    "workflow"
   ]
  },
  {
   "cell_type": "code",
   "execution_count": 70,
   "id": "bdcbc3ea",
   "metadata": {},
   "outputs": [],
   "source": [
    "initial_state = {\n",
    "    'run':100,\n",
    "    'balls':50,\n",
    "    'fours':6,\n",
    "    'sixes':4\n",
    "}"
   ]
  },
  {
   "cell_type": "code",
   "execution_count": 71,
   "id": "f457d5b4",
   "metadata": {},
   "outputs": [
    {
     "data": {
      "text/plain": [
       "{'run': 100,\n",
       " 'balls': 50,\n",
       " 'fours': 6,\n",
       " 'sixes': 4,\n",
       " 'sr': 200.0,\n",
       " 'bpb': 5.0,\n",
       " 'boundary_percent': 48.0,\n",
       " 'summary': '\\n        Strike Rate - 200.0 \\n\\n        Balls per boundary - 5.0 \\n\\n        Boundary percent - 48.0\\n    '}"
      ]
     },
     "execution_count": 71,
     "metadata": {},
     "output_type": "execute_result"
    }
   ],
   "source": [
    "workflow.invoke(initial_state)"
   ]
  },
  {
   "cell_type": "code",
   "execution_count": null,
   "id": "883dfd6d",
   "metadata": {},
   "outputs": [],
   "source": []
  },
  {
   "cell_type": "code",
   "execution_count": null,
   "id": "b7ce446d",
   "metadata": {},
   "outputs": [],
   "source": []
  }
 ],
 "metadata": {
  "kernelspec": {
   "display_name": "Python 3",
   "language": "python",
   "name": "python3"
  },
  "language_info": {
   "codemirror_mode": {
    "name": "ipython",
    "version": 3
   },
   "file_extension": ".py",
   "mimetype": "text/x-python",
   "name": "python",
   "nbconvert_exporter": "python",
   "pygments_lexer": "ipython3",
   "version": "3.12.4"
  }
 },
 "nbformat": 4,
 "nbformat_minor": 5
}
