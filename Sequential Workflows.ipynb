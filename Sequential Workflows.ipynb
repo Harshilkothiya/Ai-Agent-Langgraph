{
 "cells": [
  {
   "cell_type": "code",
   "execution_count": null,
   "id": "8d83df20",
   "metadata": {},
   "outputs": [],
   "source": [
    "from dotenv import load_dotenv\n",
    "from langgraph.graph import StateGraph "
   ]
  }
 ],
 "metadata": {
  "language_info": {
   "name": "python"
  }
 },
 "nbformat": 4,
 "nbformat_minor": 5
}
