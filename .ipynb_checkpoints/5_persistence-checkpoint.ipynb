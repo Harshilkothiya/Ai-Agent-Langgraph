{
 "cells": [
  {
   "cell_type": "code",
   "execution_count": 11,
   "id": "e59a02e6",
   "metadata": {},
   "outputs": [],
   "source": [
    "from model import model\n",
    "from langgraph.graph import StateGraph, START, END\n",
    "from typing import TypedDict\n",
    "from langgraph.checkpoint.memory import InMemorySaver\n"
   ]
  },
  {
   "cell_type": "code",
   "execution_count": 2,
   "id": "ccbd19a8",
   "metadata": {},
   "outputs": [],
   "source": [
    "class JokeState(TypedDict):\n",
    "    topic: str\n",
    "    joke: str\n",
    "    explanation: str"
   ]
  },
  {
   "cell_type": "code",
   "execution_count": 5,
   "id": "f0611374",
   "metadata": {},
   "outputs": [],
   "source": [
    "def generate_joke(state: JokeState):\n",
    "    prompt = f'generate small joke on the topic {state[\"topic\"]}'\n",
    "    response = model.invoke(prompt)\n",
    "\n",
    "    return {'joke':response.content}"
   ]
  },
  {
   "cell_type": "code",
   "execution_count": 6,
   "id": "551a6218",
   "metadata": {},
   "outputs": [],
   "source": [
    "def explain_joke(state:JokeState):\n",
    "    prompt = f'Explain the joke: {state[\"joke\"]} in brief'\n",
    "    response = model.invoke(prompt)\n",
    "    return {'explanation':response.content}"
   ]
  },
  {
   "cell_type": "code",
   "execution_count": 8,
   "id": "8c3d213d",
   "metadata": {},
   "outputs": [
    {
     "data": {
      "text/plain": [
       "<langgraph.graph.state.StateGraph at 0x1a0fdefb860>"
      ]
     },
     "execution_count": 8,
     "metadata": {},
     "output_type": "execute_result"
    }
   ],
   "source": [
    "graph = StateGraph(JokeState)\n",
    "\n",
    "graph.add_node('generate_joke', generate_joke)\n",
    "graph.add_node('explain_joke', explain_joke)\n",
    "\n",
    "graph.add_edge(START, 'generate_joke')\n",
    "graph.add_edge('generate_joke', 'explain_joke')\n",
    "graph.add_edge('explain_joke', END)"
   ]
  },
  {
   "cell_type": "code",
   "execution_count": 22,
   "id": "d112c6a3",
   "metadata": {},
   "outputs": [
    {
     "data": {
      "image/png": "[encoded data removed]",
      "text/plain": [
       "<langgraph.graph.state.CompiledStateGraph object at 0x000001A0FC8F80B0>"
      ]
     },
     "execution_count": 22,
     "metadata": {},
     "output_type": "execute_result"
    }
   ],
   "source": [
    "checkpointer = InMemorySaver()\n",
    "workflow = graph.compile(checkpointer=checkpointer)\n",
    "workflow"
   ]
  },
  {
   "cell_type": "code",
   "execution_count": 26,
   "id": "deff238a",
   "metadata": {},
   "outputs": [],
   "source": [
    "config1 = {'configurable': {'thread_id':'1'}}"
   ]
  },
  {
   "cell_type": "code",
   "execution_count": 27,
   "id": "d6dfc984",
   "metadata": {},
   "outputs": [
    {
     "data": {
      "text/plain": [
       "{'topic': 'technology',\n",
       " 'joke': \"Why did the Wi-Fi signal break up with the router?\\n\\nThey just weren't connecting.\",\n",
       " 'explanation': 'It\\'s a pun on the word \"connecting.\"\\n\\n1.  **Literally:** A Wi-Fi signal and router need to \"connect\" to function and provide internet.\\n2.  **Figuratively:** People in a relationship need to \"connect\" emotionally to stay together.\\n\\nThe joke applies the relationship meaning to the technical problem.'}"
      ]
     },
     "execution_count": 27,
     "metadata": {},
     "output_type": "execute_result"
    }
   ],
   "source": [
    "workflow.invoke({'topic':'technology'}, config=config1)"
   ]
  },
  {
   "cell_type": "code",
   "execution_count": 29,
   "id": "98e72aaf",
   "metadata": {},
   "outputs": [
    {
     "data": {
      "text/plain": [
       "StateSnapshot(values={'topic': 'technology', 'joke': \"Why did the Wi-Fi signal break up with the router?\\n\\nThey just weren't connecting.\", 'explanation': 'It\\'s a pun on the word \"connecting.\"\\n\\n1.  **Literally:** A Wi-Fi signal and router need to \"connect\" to function and provide internet.\\n2.  **Figuratively:** People in a relationship need to \"connect\" emotionally to stay together.\\n\\nThe joke applies the relationship meaning to the technical problem.'}, next=(), config={'configurable': {'thread_id': '1', 'checkpoint_ns': '', 'checkpoint_id': '1f0a2b3a-6b4e-68b3-8002-1f7be30af149'}}, metadata={'source': 'loop', 'step': 2, 'parents': {}}, created_at='2025-10-06T12:54:52.820497+00:00', parent_config={'configurable': {'thread_id': '1', 'checkpoint_ns': '', 'checkpoint_id': '1f0a2b3a-3674-6136-8001-2d0ec31aaa6e'}}, tasks=(), interrupts=())"
      ]
     },
     "execution_count": 29,
     "metadata": {},
     "output_type": "execute_result"
    }
   ],
   "source": [
    "#this final state of workflow\n",
    "workflow.get_state(config1)"
   ]
  },
  {
   "cell_type": "code",
   "execution_count": 31,
   "id": "186f4fd8",
   "metadata": {},
   "outputs": [
    {
     "data": {
      "text/plain": [
       "[StateSnapshot(values={'topic': 'technology', 'joke': \"Why did the Wi-Fi signal break up with the router?\\n\\nThey just weren't connecting.\", 'explanation': 'It\\'s a pun on the word \"connecting.\"\\n\\n1.  **Literally:** A Wi-Fi signal and router need to \"connect\" to function and provide internet.\\n2.  **Figuratively:** People in a relationship need to \"connect\" emotionally to stay together.\\n\\nThe joke applies the relationship meaning to the technical problem.'}, next=(), config={'configurable': {'thread_id': '1', 'checkpoint_ns': '', 'checkpoint_id': '1f0a2b3a-6b4e-68b3-8002-1f7be30af149'}}, metadata={'source': 'loop', 'step': 2, 'parents': {}}, created_at='2025-10-06T12:54:52.820497+00:00', parent_config={'configurable': {'thread_id': '1', 'checkpoint_ns': '', 'checkpoint_id': '1f0a2b3a-3674-6136-8001-2d0ec31aaa6e'}}, tasks=(), interrupts=()),\n",
       " StateSnapshot(values={'topic': 'technology', 'joke': \"Why did the Wi-Fi signal break up with the router?\\n\\nThey just weren't connecting.\"}, next=('explain_joke',), config={'configurable': {'thread_id': '1', 'checkpoint_ns': '', 'checkpoint_id': '1f0a2b3a-3674-6136-8001-2d0ec31aaa6e'}}, metadata={'source': 'loop', 'step': 1, 'parents': {}}, created_at='2025-10-06T12:54:47.277393+00:00', parent_config={'configurable': {'thread_id': '1', 'checkpoint_ns': '', 'checkpoint_id': '1f0a2b3a-223a-6bbe-8000-babeea2e540f'}}, tasks=(PregelTask(id='13d0818f-e1ef-dae3-9ef2-a843ce64416e', name='explain_joke', path=('__pregel_pull', 'explain_joke'), error=None, interrupts=(), state=None, result={'explanation': 'It\\'s a pun on the word \"connecting.\"\\n\\n1.  **Literally:** A Wi-Fi signal and router need to \"connect\" to function and provide internet.\\n2.  **Figuratively:** People in a relationship need to \"connect\" emotionally to stay together.\\n\\nThe joke applies the relationship meaning to the technical problem.'}),), interrupts=()),\n",
       " StateSnapshot(values={'topic': 'technology'}, next=('generate_joke',), config={'configurable': {'thread_id': '1', 'checkpoint_ns': '', 'checkpoint_id': '1f0a2b3a-223a-6bbe-8000-babeea2e540f'}}, metadata={'source': 'loop', 'step': 0, 'parents': {}}, created_at='2025-10-06T12:54:45.157779+00:00', parent_config={'configurable': {'thread_id': '1', 'checkpoint_ns': '', 'checkpoint_id': '1f0a2b3a-2230-6a41-bfff-db7a5aeddec2'}}, tasks=(PregelTask(id='591f5c00-5cc0-6e96-23d5-b04a56d677ad', name='generate_joke', path=('__pregel_pull', 'generate_joke'), error=None, interrupts=(), state=None, result={'joke': \"Why did the Wi-Fi signal break up with the router?\\n\\nThey just weren't connecting.\"}),), interrupts=()),\n",
       " StateSnapshot(values={}, next=('__start__',), config={'configurable': {'thread_id': '1', 'checkpoint_ns': '', 'checkpoint_id': '1f0a2b3a-2230-6a41-bfff-db7a5aeddec2'}}, metadata={'source': 'input', 'step': -1, 'parents': {}}, created_at='2025-10-06T12:54:45.153644+00:00', parent_config=None, tasks=(PregelTask(id='5ede5589-0dbb-9ebe-f938-27156ed6b23a', name='__start__', path=('__pregel_pull', '__start__'), error=None, interrupts=(), state=None, result={'topic': 'technology'}),), interrupts=())]"
      ]
     },
     "execution_count": 31,
     "metadata": {},
     "output_type": "execute_result"
    }
   ],
   "source": [
    "#the full histroy\n",
    "list(workflow.get_state_history(config1))"
   ]
  },
  {
   "cell_type": "code",
   "execution_count": 32,
   "id": "1c8ded1a",
   "metadata": {},
   "outputs": [
    {
     "data": {
      "text/plain": [
       "{'topic': 'ai',\n",
       " 'joke': 'Why did the AI break up with the calculator?\\nIt said it needed more emotional processing... and a better algorithm for love.',\n",
       " 'explanation': 'The joke plays on the contrast between AI\\'s logical nature and love\\'s emotional complexity:\\n\\n1.  **AI\\'s desire:** The AI, a machine, is seeking \"emotional processing,\" a very human desire, which a calculator (pure numbers) cannot provide.\\n2.  **Ironic framing:** It still describes love in technical terms (\"better algorithm\"), highlighting its machine perspective on something inherently non-algorithmic.\\n\\nEssentially, the AI is too advanced for the calculator\\'s basic logic, but still too much of a machine to understand love in a truly human way.'}"
      ]
     },
     "execution_count": 32,
     "metadata": {},
     "output_type": "execute_result"
    }
   ],
   "source": [
    "config2 = {\"configurable\": {\"thread_id\": \"2\"}}\n",
    "workflow.invoke({'topic':'ai'}, config=config2)"
   ]
  },
  {
   "cell_type": "code",
   "execution_count": 35,
   "id": "1a050509",
   "metadata": {},
   "outputs": [
    {
     "data": {
      "text/plain": [
       "StateSnapshot(values={'topic': 'ai', 'joke': 'Why did the AI break up with the calculator?\\nIt said it needed more emotional processing... and a better algorithm for love.', 'explanation': 'The joke plays on the contrast between AI\\'s logical nature and love\\'s emotional complexity:\\n\\n1.  **AI\\'s desire:** The AI, a machine, is seeking \"emotional processing,\" a very human desire, which a calculator (pure numbers) cannot provide.\\n2.  **Ironic framing:** It still describes love in technical terms (\"better algorithm\"), highlighting its machine perspective on something inherently non-algorithmic.\\n\\nEssentially, the AI is too advanced for the calculator\\'s basic logic, but still too much of a machine to understand love in a truly human way.'}, next=(), config={'configurable': {'thread_id': '2', 'checkpoint_ns': '', 'checkpoint_id': '1f0a2b40-6994-6810-8002-2403a28344b3'}}, metadata={'source': 'loop', 'step': 2, 'parents': {}}, created_at='2025-10-06T12:57:33.700712+00:00', parent_config={'configurable': {'thread_id': '2', 'checkpoint_ns': '', 'checkpoint_id': '1f0a2b3f-d735-62c9-8001-5fbb698b15cb'}}, tasks=(), interrupts=())"
      ]
     },
     "execution_count": 35,
     "metadata": {},
     "output_type": "execute_result"
    }
   ],
   "source": [
    "workflow.get_state(config2)"
   ]
  },
  {
   "cell_type": "code",
   "execution_count": 37,
   "id": "80194c7c",
   "metadata": {},
   "outputs": [
    {
     "data": {
      "text/plain": [
       "[StateSnapshot(values={'topic': 'ai', 'joke': 'Why did the AI break up with the calculator?\\nIt said it needed more emotional processing... and a better algorithm for love.', 'explanation': 'The joke plays on the contrast between AI\\'s logical nature and love\\'s emotional complexity:\\n\\n1.  **AI\\'s desire:** The AI, a machine, is seeking \"emotional processing,\" a very human desire, which a calculator (pure numbers) cannot provide.\\n2.  **Ironic framing:** It still describes love in technical terms (\"better algorithm\"), highlighting its machine perspective on something inherently non-algorithmic.\\n\\nEssentially, the AI is too advanced for the calculator\\'s basic logic, but still too much of a machine to understand love in a truly human way.'}, next=(), config={'configurable': {'thread_id': '2', 'checkpoint_ns': '', 'checkpoint_id': '1f0a2b40-6994-6810-8002-2403a28344b3'}}, metadata={'source': 'loop', 'step': 2, 'parents': {}}, created_at='2025-10-06T12:57:33.700712+00:00', parent_config={'configurable': {'thread_id': '2', 'checkpoint_ns': '', 'checkpoint_id': '1f0a2b3f-d735-62c9-8001-5fbb698b15cb'}}, tasks=(), interrupts=()),\n",
       " StateSnapshot(values={'topic': 'ai', 'joke': 'Why did the AI break up with the calculator?\\nIt said it needed more emotional processing... and a better algorithm for love.'}, next=('explain_joke',), config={'configurable': {'thread_id': '2', 'checkpoint_ns': '', 'checkpoint_id': '1f0a2b3f-d735-62c9-8001-5fbb698b15cb'}}, metadata={'source': 'loop', 'step': 1, 'parents': {}}, created_at='2025-10-06T12:57:18.352455+00:00', parent_config={'configurable': {'thread_id': '2', 'checkpoint_ns': '', 'checkpoint_id': '1f0a2b3e-db0f-6fbd-8000-2e329799e1ec'}}, tasks=(PregelTask(id='83ea2d10-134f-d2c5-4cfa-6e928a6c4706', name='explain_joke', path=('__pregel_pull', 'explain_joke'), error=None, interrupts=(), state=None, result={'explanation': 'The joke plays on the contrast between AI\\'s logical nature and love\\'s emotional complexity:\\n\\n1.  **AI\\'s desire:** The AI, a machine, is seeking \"emotional processing,\" a very human desire, which a calculator (pure numbers) cannot provide.\\n2.  **Ironic framing:** It still describes love in technical terms (\"better algorithm\"), highlighting its machine perspective on something inherently non-algorithmic.\\n\\nEssentially, the AI is too advanced for the calculator\\'s basic logic, but still too much of a machine to understand love in a truly human way.'}),), interrupts=()),\n",
       " StateSnapshot(values={'topic': 'ai'}, next=('generate_joke',), config={'configurable': {'thread_id': '2', 'checkpoint_ns': '', 'checkpoint_id': '1f0a2b3e-db0f-6fbd-8000-2e329799e1ec'}}, metadata={'source': 'loop', 'step': 0, 'parents': {}}, created_at='2025-10-06T12:56:51.913106+00:00', parent_config={'configurable': {'thread_id': '2', 'checkpoint_ns': '', 'checkpoint_id': '1f0a2b3e-db0c-646b-bfff-a345d75da305'}}, tasks=(PregelTask(id='a700b993-db46-9f47-943b-25bd36d9a47a', name='generate_joke', path=('__pregel_pull', 'generate_joke'), error=None, interrupts=(), state=None, result={'joke': 'Why did the AI break up with the calculator?\\nIt said it needed more emotional processing... and a better algorithm for love.'}),), interrupts=()),\n",
       " StateSnapshot(values={}, next=('__start__',), config={'configurable': {'thread_id': '2', 'checkpoint_ns': '', 'checkpoint_id': '1f0a2b3e-db0c-646b-bfff-a345d75da305'}}, metadata={'source': 'input', 'step': -1, 'parents': {}}, created_at='2025-10-06T12:56:51.911588+00:00', parent_config=None, tasks=(PregelTask(id='2538a4cb-1e2f-38b2-3df7-8e6d81de6ef8', name='__start__', path=('__pregel_pull', '__start__'), error=None, interrupts=(), state=None, result={'topic': 'ai'}),), interrupts=())]"
      ]
     },
     "execution_count": 37,
     "metadata": {},
     "output_type": "execute_result"
    }
   ],
   "source": [
    "list(workflow.get_state_history(config2))"
   ]
  },
  {
   "cell_type": "markdown",
   "id": "84592b3a",
   "metadata": {},
   "source": [
    "# Time Travel"
   ]
  },
  {
   "cell_type": "code",
   "execution_count": 40,
   "id": "1521efaf",
   "metadata": {},
   "outputs": [
    {
     "data": {
      "text/plain": [
       "StateSnapshot(values={'topic': 'technology', 'joke': \"Why did the Wi-Fi signal break up with the router?\\n\\nThey just weren't connecting.\"}, next=('explain_joke',), config={'configurable': {'thread_id': '1', 'checkpoint_id': '1f0a2b3a-3674-6136-8001-2d0ec31aaa6e'}}, metadata={'source': 'loop', 'step': 1, 'parents': {}}, created_at='2025-10-06T12:54:47.277393+00:00', parent_config={'configurable': {'thread_id': '1', 'checkpoint_ns': '', 'checkpoint_id': '1f0a2b3a-223a-6bbe-8000-babeea2e540f'}}, tasks=(PregelTask(id='13d0818f-e1ef-dae3-9ef2-a843ce64416e', name='explain_joke', path=('__pregel_pull', 'explain_joke'), error=None, interrupts=(), state=None, result={'explanation': 'It\\'s a pun on the word \"connecting.\"\\n\\n1.  **Literally:** A Wi-Fi signal and router need to \"connect\" to function and provide internet.\\n2.  **Figuratively:** People in a relationship need to \"connect\" emotionally to stay together.\\n\\nThe joke applies the relationship meaning to the technical problem.'}),), interrupts=())"
      ]
     },
     "execution_count": 40,
     "metadata": {},
     "output_type": "execute_result"
    }
   ],
   "source": [
    "workflow.get_state({\"configurable\": {\"thread_id\": \"1\",'checkpoint_id': '1f0a2b3a-3674-6136-8001-2d0ec31aaa6e'}})"
   ]
  },
  {
   "cell_type": "code",
   "execution_count": 44,
   "id": "7109b116",
   "metadata": {},
   "outputs": [
    {
     "data": {
      "text/plain": [
       "[StateSnapshot(values={'topic': 'technology', 'joke': 'Why was the computer cold?\\n\\nBecause it left its Windows open!', 'explanation': 'The joke is a pun on the word \"Windows\":\\n\\n1.  **Literal:** Leaving actual windows (in a house) open lets in cold air.\\n2.  **Computer:** \"Windows\" refers to the Microsoft Windows operating system or the application windows on a computer screen.\\n\\nThe humor comes from pretending the computer literally left its \"house windows\" open, causing it to feel cold, when it\\'s actually referring to its software.'}, next=(), config={'configurable': {'thread_id': '1', 'checkpoint_ns': '', 'checkpoint_id': '1f0a2b68-63ec-6d0f-8002-7ef9928f6188'}}, metadata={'source': 'loop', 'step': 2, 'parents': {}}, created_at='2025-10-06T13:15:26.849563+00:00', parent_config={'configurable': {'thread_id': '1', 'checkpoint_ns': '', 'checkpoint_id': '1f0a2b68-0691-68c6-8001-f8b746ca6d06'}}, tasks=(), interrupts=()),\n",
       " StateSnapshot(values={'topic': 'technology', 'joke': 'Why was the computer cold?\\n\\nBecause it left its Windows open!'}, next=('explain_joke',), config={'configurable': {'thread_id': '1', 'checkpoint_ns': '', 'checkpoint_id': '1f0a2b68-0691-68c6-8001-f8b746ca6d06'}}, metadata={'source': 'loop', 'step': 1, 'parents': {}}, created_at='2025-10-06T13:15:17.060423+00:00', parent_config={'configurable': {'thread_id': '1', 'checkpoint_ns': '', 'checkpoint_id': '1f0a2b3a-223a-6bbe-8000-babeea2e540f'}}, tasks=(PregelTask(id='6cd74ae3-8a9e-4c62-d3f0-b9122275522e', name='explain_joke', path=('__pregel_pull', 'explain_joke'), error=None, interrupts=(), state=None, result={'explanation': 'The joke is a pun on the word \"Windows\":\\n\\n1.  **Literal:** Leaving actual windows (in a house) open lets in cold air.\\n2.  **Computer:** \"Windows\" refers to the Microsoft Windows operating system or the application windows on a computer screen.\\n\\nThe humor comes from pretending the computer literally left its \"house windows\" open, causing it to feel cold, when it\\'s actually referring to its software.'}),), interrupts=()),\n",
       " StateSnapshot(values={'topic': 'technology', 'joke': \"Why did the Wi-Fi signal break up with the router?\\n\\nThey just weren't connecting.\", 'explanation': 'It\\'s a pun on the word \"connecting.\"\\n\\n1.  **Literally:** A Wi-Fi signal and router need to \"connect\" to function and provide internet.\\n2.  **Figuratively:** People in a relationship need to \"connect\" emotionally to stay together.\\n\\nThe joke applies the relationship meaning to the technical problem.'}, next=(), config={'configurable': {'thread_id': '1', 'checkpoint_ns': '', 'checkpoint_id': '1f0a2b3a-6b4e-68b3-8002-1f7be30af149'}}, metadata={'source': 'loop', 'step': 2, 'parents': {}}, created_at='2025-10-06T12:54:52.820497+00:00', parent_config={'configurable': {'thread_id': '1', 'checkpoint_ns': '', 'checkpoint_id': '1f0a2b3a-3674-6136-8001-2d0ec31aaa6e'}}, tasks=(), interrupts=()),\n",
       " StateSnapshot(values={'topic': 'technology', 'joke': \"Why did the Wi-Fi signal break up with the router?\\n\\nThey just weren't connecting.\"}, next=('explain_joke',), config={'configurable': {'thread_id': '1', 'checkpoint_ns': '', 'checkpoint_id': '1f0a2b3a-3674-6136-8001-2d0ec31aaa6e'}}, metadata={'source': 'loop', 'step': 1, 'parents': {}}, created_at='2025-10-06T12:54:47.277393+00:00', parent_config={'configurable': {'thread_id': '1', 'checkpoint_ns': '', 'checkpoint_id': '1f0a2b3a-223a-6bbe-8000-babeea2e540f'}}, tasks=(PregelTask(id='13d0818f-e1ef-dae3-9ef2-a843ce64416e', name='explain_joke', path=('__pregel_pull', 'explain_joke'), error=None, interrupts=(), state=None, result={'explanation': 'It\\'s a pun on the word \"connecting.\"\\n\\n1.  **Literally:** A Wi-Fi signal and router need to \"connect\" to function and provide internet.\\n2.  **Figuratively:** People in a relationship need to \"connect\" emotionally to stay together.\\n\\nThe joke applies the relationship meaning to the technical problem.'}),), interrupts=()),\n",
       " StateSnapshot(values={'topic': 'technology'}, next=('generate_joke',), config={'configurable': {'thread_id': '1', 'checkpoint_ns': '', 'checkpoint_id': '1f0a2b3a-223a-6bbe-8000-babeea2e540f'}}, metadata={'source': 'loop', 'step': 0, 'parents': {}}, created_at='2025-10-06T12:54:45.157779+00:00', parent_config={'configurable': {'thread_id': '1', 'checkpoint_ns': '', 'checkpoint_id': '1f0a2b3a-2230-6a41-bfff-db7a5aeddec2'}}, tasks=(PregelTask(id='591f5c00-5cc0-6e96-23d5-b04a56d677ad', name='generate_joke', path=('__pregel_pull', 'generate_joke'), error=None, interrupts=(), state=None, result={'joke': \"Why did the Wi-Fi signal break up with the router?\\n\\nThey just weren't connecting.\"}),), interrupts=()),\n",
       " StateSnapshot(values={}, next=('__start__',), config={'configurable': {'thread_id': '1', 'checkpoint_ns': '', 'checkpoint_id': '1f0a2b3a-2230-6a41-bfff-db7a5aeddec2'}}, metadata={'source': 'input', 'step': -1, 'parents': {}}, created_at='2025-10-06T12:54:45.153644+00:00', parent_config=None, tasks=(PregelTask(id='5ede5589-0dbb-9ebe-f938-27156ed6b23a', name='__start__', path=('__pregel_pull', '__start__'), error=None, interrupts=(), state=None, result={'topic': 'technology'}),), interrupts=())]"
      ]
     },
     "execution_count": 44,
     "metadata": {},
     "output_type": "execute_result"
    }
   ],
   "source": [
    "list(workflow.get_state_history(config1))"
   ]
  },
  {
   "cell_type": "code",
   "execution_count": 43,
   "id": "f18b26f5",
   "metadata": {},
   "outputs": [
    {
     "data": {
      "text/plain": [
       "{'topic': 'technology',\n",
       " 'joke': 'Why was the computer cold?\\n\\nBecause it left its Windows open!',\n",
       " 'explanation': 'The joke is a pun on the word \"Windows\":\\n\\n1.  **Literal:** Leaving actual windows (in a house) open lets in cold air.\\n2.  **Computer:** \"Windows\" refers to the Microsoft Windows operating system or the application windows on a computer screen.\\n\\nThe humor comes from pretending the computer literally left its \"house windows\" open, causing it to feel cold, when it\\'s actually referring to its software.'}"
      ]
     },
     "execution_count": 43,
     "metadata": {},
     "output_type": "execute_result"
    }
   ],
   "source": [
    "workflow.invoke(None, {'configurable':{'thread_id':'1', 'checkpoint_id': '1f0a2b3a-223a-6bbe-8000-babeea2e540f'}})"
   ]
  },
  {
   "cell_type": "markdown",
   "id": "a8a52f17",
   "metadata": {},
   "source": [
    "# Update State"
   ]
  },
  {
   "cell_type": "code",
   "execution_count": 50,
   "id": "f686dc0d",
   "metadata": {},
   "outputs": [
    {
     "data": {
      "text/plain": [
       "{'configurable': {'thread_id': '1',\n",
       "  'checkpoint_ns': '',\n",
       "  'checkpoint_id': '1f0a2b75-fb61-627a-8001-44f87fda1307'}}"
      ]
     },
     "execution_count": 50,
     "metadata": {},
     "output_type": "execute_result"
    }
   ],
   "source": [
    "# this is the spet of Update state this also store into the history\n",
    "workflow.update_state({'configurable':{'thread_id':'1', 'checkpoint_id': '1f0a2b3a-223a-6bbe-8000-babeea2e540f',  \"checkpoint_ns\": \"\"}}, {\"topic\":'Harshil'})"
   ]
  },
  {
   "cell_type": "code",
   "execution_count": 51,
   "id": "24857e40",
   "metadata": {},
   "outputs": [
    {
     "data": {
      "text/plain": [
       "[StateSnapshot(values={'topic': 'Harshil'}, next=('generate_joke',), config={'configurable': {'thread_id': '1', 'checkpoint_ns': '', 'checkpoint_id': '1f0a2b75-fb61-627a-8001-44f87fda1307'}}, metadata={'source': 'update', 'step': 1, 'parents': {}}, created_at='2025-10-06T13:21:31.696805+00:00', parent_config={'configurable': {'thread_id': '1', 'checkpoint_ns': '', 'checkpoint_id': '1f0a2b3a-223a-6bbe-8000-babeea2e540f'}}, tasks=(PregelTask(id='6d5b0bbe-30e5-a13c-9eca-723ea5764b12', name='generate_joke', path=('__pregel_pull', 'generate_joke'), error=None, interrupts=(), state=None, result=None),), interrupts=()),\n",
       " StateSnapshot(values={'topic': 'Harshil'}, next=('generate_joke',), config={'configurable': {'thread_id': '1', 'checkpoint_ns': '', 'checkpoint_id': '1f0a2b72-e933-60f4-8001-7fe8ccbfcbfa'}}, metadata={'source': 'update', 'step': 1, 'parents': {}}, created_at='2025-10-06T13:20:09.259851+00:00', parent_config={'configurable': {'thread_id': '1', 'checkpoint_ns': '', 'checkpoint_id': '1f0a2b3a-223a-6bbe-8000-babeea2e540f'}}, tasks=(PregelTask(id='e9c7878d-b3de-b66d-f060-4d97ae2404c6', name='generate_joke', path=('__pregel_pull', 'generate_joke'), error=None, interrupts=(), state=None, result=None),), interrupts=()),\n",
       " StateSnapshot(values={'topic': 'technology', 'joke': 'Why was the computer cold?\\n\\nBecause it left its Windows open!', 'explanation': 'The joke is a pun on the word \"Windows\":\\n\\n1.  **Literal:** Leaving actual windows (in a house) open lets in cold air.\\n2.  **Computer:** \"Windows\" refers to the Microsoft Windows operating system or the application windows on a computer screen.\\n\\nThe humor comes from pretending the computer literally left its \"house windows\" open, causing it to feel cold, when it\\'s actually referring to its software.'}, next=(), config={'configurable': {'thread_id': '1', 'checkpoint_ns': '', 'checkpoint_id': '1f0a2b68-63ec-6d0f-8002-7ef9928f6188'}}, metadata={'source': 'loop', 'step': 2, 'parents': {}}, created_at='2025-10-06T13:15:26.849563+00:00', parent_config={'configurable': {'thread_id': '1', 'checkpoint_ns': '', 'checkpoint_id': '1f0a2b68-0691-68c6-8001-f8b746ca6d06'}}, tasks=(), interrupts=()),\n",
       " StateSnapshot(values={'topic': 'technology', 'joke': 'Why was the computer cold?\\n\\nBecause it left its Windows open!'}, next=('explain_joke',), config={'configurable': {'thread_id': '1', 'checkpoint_ns': '', 'checkpoint_id': '1f0a2b68-0691-68c6-8001-f8b746ca6d06'}}, metadata={'source': 'loop', 'step': 1, 'parents': {}}, created_at='2025-10-06T13:15:17.060423+00:00', parent_config={'configurable': {'thread_id': '1', 'checkpoint_ns': '', 'checkpoint_id': '1f0a2b3a-223a-6bbe-8000-babeea2e540f'}}, tasks=(PregelTask(id='6cd74ae3-8a9e-4c62-d3f0-b9122275522e', name='explain_joke', path=('__pregel_pull', 'explain_joke'), error=None, interrupts=(), state=None, result={'explanation': 'The joke is a pun on the word \"Windows\":\\n\\n1.  **Literal:** Leaving actual windows (in a house) open lets in cold air.\\n2.  **Computer:** \"Windows\" refers to the Microsoft Windows operating system or the application windows on a computer screen.\\n\\nThe humor comes from pretending the computer literally left its \"house windows\" open, causing it to feel cold, when it\\'s actually referring to its software.'}),), interrupts=()),\n",
       " StateSnapshot(values={'topic': 'technology', 'joke': \"Why did the Wi-Fi signal break up with the router?\\n\\nThey just weren't connecting.\", 'explanation': 'It\\'s a pun on the word \"connecting.\"\\n\\n1.  **Literally:** A Wi-Fi signal and router need to \"connect\" to function and provide internet.\\n2.  **Figuratively:** People in a relationship need to \"connect\" emotionally to stay together.\\n\\nThe joke applies the relationship meaning to the technical problem.'}, next=(), config={'configurable': {'thread_id': '1', 'checkpoint_ns': '', 'checkpoint_id': '1f0a2b3a-6b4e-68b3-8002-1f7be30af149'}}, metadata={'source': 'loop', 'step': 2, 'parents': {}}, created_at='2025-10-06T12:54:52.820497+00:00', parent_config={'configurable': {'thread_id': '1', 'checkpoint_ns': '', 'checkpoint_id': '1f0a2b3a-3674-6136-8001-2d0ec31aaa6e'}}, tasks=(), interrupts=()),\n",
       " StateSnapshot(values={'topic': 'technology', 'joke': \"Why did the Wi-Fi signal break up with the router?\\n\\nThey just weren't connecting.\"}, next=('explain_joke',), config={'configurable': {'thread_id': '1', 'checkpoint_ns': '', 'checkpoint_id': '1f0a2b3a-3674-6136-8001-2d0ec31aaa6e'}}, metadata={'source': 'loop', 'step': 1, 'parents': {}}, created_at='2025-10-06T12:54:47.277393+00:00', parent_config={'configurable': {'thread_id': '1', 'checkpoint_ns': '', 'checkpoint_id': '1f0a2b3a-223a-6bbe-8000-babeea2e540f'}}, tasks=(PregelTask(id='13d0818f-e1ef-dae3-9ef2-a843ce64416e', name='explain_joke', path=('__pregel_pull', 'explain_joke'), error=None, interrupts=(), state=None, result={'explanation': 'It\\'s a pun on the word \"connecting.\"\\n\\n1.  **Literally:** A Wi-Fi signal and router need to \"connect\" to function and provide internet.\\n2.  **Figuratively:** People in a relationship need to \"connect\" emotionally to stay together.\\n\\nThe joke applies the relationship meaning to the technical problem.'}),), interrupts=()),\n",
       " StateSnapshot(values={'topic': 'technology'}, next=('generate_joke',), config={'configurable': {'thread_id': '1', 'checkpoint_ns': '', 'checkpoint_id': '1f0a2b3a-223a-6bbe-8000-babeea2e540f'}}, metadata={'source': 'loop', 'step': 0, 'parents': {}}, created_at='2025-10-06T12:54:45.157779+00:00', parent_config={'configurable': {'thread_id': '1', 'checkpoint_ns': '', 'checkpoint_id': '1f0a2b3a-2230-6a41-bfff-db7a5aeddec2'}}, tasks=(PregelTask(id='591f5c00-5cc0-6e96-23d5-b04a56d677ad', name='generate_joke', path=('__pregel_pull', 'generate_joke'), error=None, interrupts=(), state=None, result={'joke': \"Why did the Wi-Fi signal break up with the router?\\n\\nThey just weren't connecting.\"}),), interrupts=()),\n",
       " StateSnapshot(values={}, next=('__start__',), config={'configurable': {'thread_id': '1', 'checkpoint_ns': '', 'checkpoint_id': '1f0a2b3a-2230-6a41-bfff-db7a5aeddec2'}}, metadata={'source': 'input', 'step': -1, 'parents': {}}, created_at='2025-10-06T12:54:45.153644+00:00', parent_config=None, tasks=(PregelTask(id='5ede5589-0dbb-9ebe-f938-27156ed6b23a', name='__start__', path=('__pregel_pull', '__start__'), error=None, interrupts=(), state=None, result={'topic': 'technology'}),), interrupts=())]"
      ]
     },
     "execution_count": 51,
     "metadata": {},
     "output_type": "execute_result"
    }
   ],
   "source": [
    "list(workflow.get_state_history(config1))"
   ]
  },
  {
   "cell_type": "code",
   "execution_count": 52,
   "id": "54cb88cd",
   "metadata": {},
   "outputs": [
    {
     "data": {
      "text/plain": [
       "{'topic': 'Harshil',\n",
       " 'joke': 'Why did Harshil get confused at the \"gentle\" yoga class?\\nBecause everyone expected him to be... well, a little more **harsh**!',\n",
       " 'explanation': 'The joke is a **pun** on the name \"Harshil,\" which sounds very similar to the word \"**harsh**.\"\\n\\nThe humor comes from the ironic expectation that someone named \"Harshil\" would be the opposite of \"gentle\" in a yoga class, based purely on his name.'}"
      ]
     },
     "execution_count": 52,
     "metadata": {},
     "output_type": "execute_result"
    }
   ],
   "source": [
    "workflow.invoke(None, {'configurable':{'thread_id':'1', 'checkpoint_id': '1f0a2b75-fb61-627a-8001-44f87fda1307'}})"
   ]
  },
  {
   "cell_type": "code",
   "execution_count": 54,
   "id": "28f4ba9b",
   "metadata": {},
   "outputs": [
    {
     "data": {
      "text/plain": [
       "[StateSnapshot(values={'topic': 'Harshil', 'joke': 'Why did Harshil get confused at the \"gentle\" yoga class?\\nBecause everyone expected him to be... well, a little more **harsh**!', 'explanation': 'The joke is a **pun** on the name \"Harshil,\" which sounds very similar to the word \"**harsh**.\"\\n\\nThe humor comes from the ironic expectation that someone named \"Harshil\" would be the opposite of \"gentle\" in a yoga class, based purely on his name.'}, next=(), config={'configurable': {'thread_id': '1', 'checkpoint_ns': '', 'checkpoint_id': '1f0a2b7a-9443-6b66-8003-d4faf2eef997'}}, metadata={'source': 'loop', 'step': 3, 'parents': {}}, created_at='2025-10-06T13:23:35.102141+00:00', parent_config={'configurable': {'thread_id': '1', 'checkpoint_ns': '', 'checkpoint_id': '1f0a2b7a-2417-630a-8002-3a78901e197b'}}, tasks=(), interrupts=()),\n",
       " StateSnapshot(values={'topic': 'Harshil', 'joke': 'Why did Harshil get confused at the \"gentle\" yoga class?\\nBecause everyone expected him to be... well, a little more **harsh**!'}, next=('explain_joke',), config={'configurable': {'thread_id': '1', 'checkpoint_ns': '', 'checkpoint_id': '1f0a2b7a-2417-630a-8002-3a78901e197b'}}, metadata={'source': 'loop', 'step': 2, 'parents': {}}, created_at='2025-10-06T13:23:23.339853+00:00', parent_config={'configurable': {'thread_id': '1', 'checkpoint_ns': '', 'checkpoint_id': '1f0a2b75-fb61-627a-8001-44f87fda1307'}}, tasks=(PregelTask(id='28369e84-9417-c250-a597-75ad52f974f7', name='explain_joke', path=('__pregel_pull', 'explain_joke'), error=None, interrupts=(), state=None, result={'explanation': 'The joke is a **pun** on the name \"Harshil,\" which sounds very similar to the word \"**harsh**.\"\\n\\nThe humor comes from the ironic expectation that someone named \"Harshil\" would be the opposite of \"gentle\" in a yoga class, based purely on his name.'}),), interrupts=()),\n",
       " StateSnapshot(values={'topic': 'Harshil'}, next=('generate_joke',), config={'configurable': {'thread_id': '1', 'checkpoint_ns': '', 'checkpoint_id': '1f0a2b75-fb61-627a-8001-44f87fda1307'}}, metadata={'source': 'update', 'step': 1, 'parents': {}}, created_at='2025-10-06T13:21:31.696805+00:00', parent_config={'configurable': {'thread_id': '1', 'checkpoint_ns': '', 'checkpoint_id': '1f0a2b3a-223a-6bbe-8000-babeea2e540f'}}, tasks=(PregelTask(id='6d5b0bbe-30e5-a13c-9eca-723ea5764b12', name='generate_joke', path=('__pregel_pull', 'generate_joke'), error=None, interrupts=(), state=None, result={'joke': 'Why did Harshil get confused at the \"gentle\" yoga class?\\nBecause everyone expected him to be... well, a little more **harsh**!'}),), interrupts=()),\n",
       " StateSnapshot(values={'topic': 'Harshil'}, next=('generate_joke',), config={'configurable': {'thread_id': '1', 'checkpoint_ns': '', 'checkpoint_id': '1f0a2b72-e933-60f4-8001-7fe8ccbfcbfa'}}, metadata={'source': 'update', 'step': 1, 'parents': {}}, created_at='2025-10-06T13:20:09.259851+00:00', parent_config={'configurable': {'thread_id': '1', 'checkpoint_ns': '', 'checkpoint_id': '1f0a2b3a-223a-6bbe-8000-babeea2e540f'}}, tasks=(PregelTask(id='e9c7878d-b3de-b66d-f060-4d97ae2404c6', name='generate_joke', path=('__pregel_pull', 'generate_joke'), error=None, interrupts=(), state=None, result=None),), interrupts=()),\n",
       " StateSnapshot(values={'topic': 'technology', 'joke': 'Why was the computer cold?\\n\\nBecause it left its Windows open!', 'explanation': 'The joke is a pun on the word \"Windows\":\\n\\n1.  **Literal:** Leaving actual windows (in a house) open lets in cold air.\\n2.  **Computer:** \"Windows\" refers to the Microsoft Windows operating system or the application windows on a computer screen.\\n\\nThe humor comes from pretending the computer literally left its \"house windows\" open, causing it to feel cold, when it\\'s actually referring to its software.'}, next=(), config={'configurable': {'thread_id': '1', 'checkpoint_ns': '', 'checkpoint_id': '1f0a2b68-63ec-6d0f-8002-7ef9928f6188'}}, metadata={'source': 'loop', 'step': 2, 'parents': {}}, created_at='2025-10-06T13:15:26.849563+00:00', parent_config={'configurable': {'thread_id': '1', 'checkpoint_ns': '', 'checkpoint_id': '1f0a2b68-0691-68c6-8001-f8b746ca6d06'}}, tasks=(), interrupts=()),\n",
       " StateSnapshot(values={'topic': 'technology', 'joke': 'Why was the computer cold?\\n\\nBecause it left its Windows open!'}, next=('explain_joke',), config={'configurable': {'thread_id': '1', 'checkpoint_ns': '', 'checkpoint_id': '1f0a2b68-0691-68c6-8001-f8b746ca6d06'}}, metadata={'source': 'loop', 'step': 1, 'parents': {}}, created_at='2025-10-06T13:15:17.060423+00:00', parent_config={'configurable': {'thread_id': '1', 'checkpoint_ns': '', 'checkpoint_id': '1f0a2b3a-223a-6bbe-8000-babeea2e540f'}}, tasks=(PregelTask(id='6cd74ae3-8a9e-4c62-d3f0-b9122275522e', name='explain_joke', path=('__pregel_pull', 'explain_joke'), error=None, interrupts=(), state=None, result={'explanation': 'The joke is a pun on the word \"Windows\":\\n\\n1.  **Literal:** Leaving actual windows (in a house) open lets in cold air.\\n2.  **Computer:** \"Windows\" refers to the Microsoft Windows operating system or the application windows on a computer screen.\\n\\nThe humor comes from pretending the computer literally left its \"house windows\" open, causing it to feel cold, when it\\'s actually referring to its software.'}),), interrupts=()),\n",
       " StateSnapshot(values={'topic': 'technology', 'joke': \"Why did the Wi-Fi signal break up with the router?\\n\\nThey just weren't connecting.\", 'explanation': 'It\\'s a pun on the word \"connecting.\"\\n\\n1.  **Literally:** A Wi-Fi signal and router need to \"connect\" to function and provide internet.\\n2.  **Figuratively:** People in a relationship need to \"connect\" emotionally to stay together.\\n\\nThe joke applies the relationship meaning to the technical problem.'}, next=(), config={'configurable': {'thread_id': '1', 'checkpoint_ns': '', 'checkpoint_id': '1f0a2b3a-6b4e-68b3-8002-1f7be30af149'}}, metadata={'source': 'loop', 'step': 2, 'parents': {}}, created_at='2025-10-06T12:54:52.820497+00:00', parent_config={'configurable': {'thread_id': '1', 'checkpoint_ns': '', 'checkpoint_id': '1f0a2b3a-3674-6136-8001-2d0ec31aaa6e'}}, tasks=(), interrupts=()),\n",
       " StateSnapshot(values={'topic': 'technology', 'joke': \"Why did the Wi-Fi signal break up with the router?\\n\\nThey just weren't connecting.\"}, next=('explain_joke',), config={'configurable': {'thread_id': '1', 'checkpoint_ns': '', 'checkpoint_id': '1f0a2b3a-3674-6136-8001-2d0ec31aaa6e'}}, metadata={'source': 'loop', 'step': 1, 'parents': {}}, created_at='2025-10-06T12:54:47.277393+00:00', parent_config={'configurable': {'thread_id': '1', 'checkpoint_ns': '', 'checkpoint_id': '1f0a2b3a-223a-6bbe-8000-babeea2e540f'}}, tasks=(PregelTask(id='13d0818f-e1ef-dae3-9ef2-a843ce64416e', name='explain_joke', path=('__pregel_pull', 'explain_joke'), error=None, interrupts=(), state=None, result={'explanation': 'It\\'s a pun on the word \"connecting.\"\\n\\n1.  **Literally:** A Wi-Fi signal and router need to \"connect\" to function and provide internet.\\n2.  **Figuratively:** People in a relationship need to \"connect\" emotionally to stay together.\\n\\nThe joke applies the relationship meaning to the technical problem.'}),), interrupts=()),\n",
       " StateSnapshot(values={'topic': 'technology'}, next=('generate_joke',), config={'configurable': {'thread_id': '1', 'checkpoint_ns': '', 'checkpoint_id': '1f0a2b3a-223a-6bbe-8000-babeea2e540f'}}, metadata={'source': 'loop', 'step': 0, 'parents': {}}, created_at='2025-10-06T12:54:45.157779+00:00', parent_config={'configurable': {'thread_id': '1', 'checkpoint_ns': '', 'checkpoint_id': '1f0a2b3a-2230-6a41-bfff-db7a5aeddec2'}}, tasks=(PregelTask(id='591f5c00-5cc0-6e96-23d5-b04a56d677ad', name='generate_joke', path=('__pregel_pull', 'generate_joke'), error=None, interrupts=(), state=None, result={'joke': \"Why did the Wi-Fi signal break up with the router?\\n\\nThey just weren't connecting.\"}),), interrupts=()),\n",
       " StateSnapshot(values={}, next=('__start__',), config={'configurable': {'thread_id': '1', 'checkpoint_ns': '', 'checkpoint_id': '1f0a2b3a-2230-6a41-bfff-db7a5aeddec2'}}, metadata={'source': 'input', 'step': -1, 'parents': {}}, created_at='2025-10-06T12:54:45.153644+00:00', parent_config=None, tasks=(PregelTask(id='5ede5589-0dbb-9ebe-f938-27156ed6b23a', name='__start__', path=('__pregel_pull', '__start__'), error=None, interrupts=(), state=None, result={'topic': 'technology'}),), interrupts=())]"
      ]
     },
     "execution_count": 54,
     "metadata": {},
     "output_type": "execute_result"
    }
   ],
   "source": [
    "list(workflow.get_state_history(config1))"
   ]
  },
  {
   "cell_type": "markdown",
   "id": "ed903bc9",
   "metadata": {},
   "source": [
    "# Fault Tolerance"
   ]
  },
  {
   "cell_type": "code",
   "execution_count": 1,
   "id": "8c5c5bed",
   "metadata": {},
   "outputs": [],
   "source": [
    "from langgraph.graph import StateGraph, END\n",
    "from langgraph.checkpoint.memory import InMemorySaver\n",
    "from typing import TypedDict\n",
    "import time"
   ]
  },
  {
   "cell_type": "code",
   "execution_count": 3,
   "id": "cb960131",
   "metadata": {},
   "outputs": [],
   "source": [
    "# 1. Define the state\n",
    "class CrashState(TypedDict):\n",
    "    input: str\n",
    "    step1: str\n",
    "    step2: str"
   ]
  },
  {
   "cell_type": "code",
   "execution_count": 4,
   "id": "710a3dff",
   "metadata": {},
   "outputs": [],
   "source": [
    "# 2. Define steps\n",
    "def step_1(state: CrashState) -> CrashState:\n",
    "    print(\"✅ Step 1 executed\")\n",
    "    return {\"step1\": \"done\", \"input\": state[\"input\"]}\n",
    "\n",
    "def step_2(state: CrashState) -> CrashState:\n",
    "    print(\"⏳ Step 2 hanging... now manually interrupt from the notebook toolbar (STOP button)\")\n",
    "    time.sleep(1000)  # Simulate long-running hang\n",
    "    return {\"step2\": \"done\"}\n",
    "\n",
    "def step_3(state: CrashState) -> CrashState:\n",
    "    print(\"✅ Step 3 executed\")\n",
    "    return {\"done\": True}"
   ]
  },
  {
   "cell_type": "code",
   "execution_count": 5,
   "id": "3bae28a0",
   "metadata": {},
   "outputs": [],
   "source": [
    "# 3. Build the graph\n",
    "builder = StateGraph(CrashState)\n",
    "builder.add_node(\"step_1\", step_1)\n",
    "builder.add_node(\"step_2\", step_2)\n",
    "builder.add_node(\"step_3\", step_3)\n",
    "\n",
    "builder.set_entry_point(\"step_1\")\n",
    "builder.add_edge(\"step_1\", \"step_2\")\n",
    "builder.add_edge(\"step_2\", \"step_3\")\n",
    "builder.add_edge(\"step_3\", END)\n",
    "\n",
    "checkpointer = InMemorySaver()\n",
    "graph = builder.compile(checkpointer=checkpointer)"
   ]
  },
  {
   "cell_type": "code",
   "execution_count": null,
   "id": "e944a2e5",
   "metadata": {},
   "outputs": [
    {
     "name": "stdout",
     "output_type": "stream",
     "text": [
      "▶️ Running graph: Please manually interrupt during Step 2...\n",
      "✅ Step 1 executed\n",
      "⏳ Step 2 hanging... now manually interrupt from the notebook toolbar (STOP button)\n"
     ]
    }
   ],
   "source": [
    "try:\n",
    "    print(\"▶️ Running graph: Please manually interrupt during Step 2...\")\n",
    "    graph.invoke({\"input\": \"start\"}, config={\"configurable\": {\"thread_id\": 'thread-1'}})\n",
    "except KeyboardInterrupt:\n",
    "    print(\"❌ Kernel manually interrupted (crash simulated).\")"
   ]
  },
  {
   "cell_type": "code",
   "execution_count": 1,
   "id": "2b960c21",
   "metadata": {},
   "outputs": [
    {
     "name": "stdout",
     "output_type": "stream",
     "text": [
      "\n",
      "🔁 Re-running the graph to demonstrate fault tolerance...\n"
     ]
    },
    {
     "ename": "NameError",
     "evalue": "name 'graph' is not defined",
     "output_type": "error",
     "traceback": [
      "\u001b[1;31m---------------------------------------------------------------------------\u001b[0m",
      "\u001b[1;31mNameError\u001b[0m                                 Traceback (most recent call last)",
      "Cell \u001b[1;32mIn[1], line 3\u001b[0m\n\u001b[0;32m      1\u001b[0m \u001b[38;5;66;03m# 6. Re-run to show fault-tolerant resume\u001b[39;00m\n\u001b[0;32m      2\u001b[0m \u001b[38;5;28mprint\u001b[39m(\u001b[38;5;124m\"\u001b[39m\u001b[38;5;130;01m\\n\u001b[39;00m\u001b[38;5;124m🔁 Re-running the graph to demonstrate fault tolerance...\u001b[39m\u001b[38;5;124m\"\u001b[39m)\n\u001b[1;32m----> 3\u001b[0m final_state \u001b[38;5;241m=\u001b[39m \u001b[43mgraph\u001b[49m\u001b[38;5;241m.\u001b[39minvoke(\u001b[38;5;28;01mNone\u001b[39;00m, config\u001b[38;5;241m=\u001b[39m{\u001b[38;5;124m\"\u001b[39m\u001b[38;5;124mconfigurable\u001b[39m\u001b[38;5;124m\"\u001b[39m: {\u001b[38;5;124m\"\u001b[39m\u001b[38;5;124mthread_id\u001b[39m\u001b[38;5;124m\"\u001b[39m: \u001b[38;5;124m'\u001b[39m\u001b[38;5;124mthread-1\u001b[39m\u001b[38;5;124m'\u001b[39m}})\n\u001b[0;32m      4\u001b[0m \u001b[38;5;28mprint\u001b[39m(\u001b[38;5;124m\"\u001b[39m\u001b[38;5;130;01m\\n\u001b[39;00m\u001b[38;5;124m✅ Final State:\u001b[39m\u001b[38;5;124m\"\u001b[39m, final_state)\n",
      "\u001b[1;31mNameError\u001b[0m: name 'graph' is not defined"
     ]
    }
   ],
   "source": [
    "# 6. Re-run to show fault-tolerant resume\n",
    "print(\"\\n🔁 Re-running the graph to demonstrate fault tolerance...\")\n",
    "final_state = graph.invoke(None, config={\"configurable\": {\"thread_id\": 'thread-1'}})\n",
    "print(\"\\n✅ Final State:\", final_state)"
   ]
  },
  {
   "cell_type": "code",
   "execution_count": null,
   "id": "e8956087",
   "metadata": {},
   "outputs": [],
   "source": []
  }
 ],
 "metadata": {
  "kernelspec": {
   "display_name": "Python 3",
   "language": "python",
   "name": "python3"
  },
  "language_info": {
   "codemirror_mode": {
    "name": "ipython",
    "version": 3
   },
   "file_extension": ".py",
   "mimetype": "text/x-python",
   "name": "python",
   "nbconvert_exporter": "python",
   "pygments_lexer": "ipython3",
   "version": "3.12.4"
  }
 },
 "nbformat": 4,
 "nbformat_minor": 5
}
