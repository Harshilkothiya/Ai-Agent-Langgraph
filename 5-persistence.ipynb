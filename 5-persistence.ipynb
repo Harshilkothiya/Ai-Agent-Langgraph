{
  "cells": [
    {
      "cell_type": "code",
      "execution_count": null,
      "id": "e59a02e6",
      "metadata": {
        "id": "e59a02e6"
      },
      "outputs": [],
      "source": [
        "from model import model\n",
        "from langgraph.graph import StateGraph, START, END\n",
        "from typing import TypedDict\n",
        "from langgraph.checkpoint.memory import InMemorySaver\n"
      ]
    },
    {
      "cell_type": "code",
      "execution_count": null,
      "id": "ccbd19a8",
      "metadata": {
        "id": "ccbd19a8"
      },
      "outputs": [],
      "source": [
        "class JokeState(TypedDict):\n",
        "    topic: str\n",
        "    joke: str\n",
        "    explanation: str"
      ]
    },
    {
      "cell_type": "code",
      "execution_count": null,
      "id": "f0611374",
      "metadata": {
        "id": "f0611374"
      },
      "outputs": [],
      "source": [
        "def generate_joke(state: JokeState):\n",
        "    prompt = f'generate small joke on the topic {state[\"topic\"]}'\n",
        "    response = model.invoke(prompt)\n",
        "\n",
        "    return {'joke':response.content}"
      ]
    },
    {
      "cell_type": "code",
      "execution_count": null,
      "id": "551a6218",
      "metadata": {
        "id": "551a6218"
      },
      "outputs": [],
      "source": [
        "def explain_joke(state:JokeState):\n",
        "    prompt = f'Explain the joke: {state[\"joke\"]} in brief'\n",
        "    response = model.invoke(prompt)\n",
        "    return {'explanation':response.content}"
      ]
    },
    {
      "cell_type": "code",
      "execution_count": null,
      "id": "8c3d213d",
      "metadata": {
        "id": "8c3d213d",
        "outputId": "5a9fa193-e647-4ad3-d933-bd6cc460e672"
      },
      "outputs": [
        {
          "data": {
            "text/plain": [
              "<langgraph.graph.state.StateGraph at 0x1a0fdefb860>"
            ]
          },
          "execution_count": 8,
          "metadata": {},
          "output_type": "execute_result"
        }
      ],
      "source": [
        "graph = StateGraph(JokeState)\n",
        "\n",
        "graph.add_node('generate_joke', generate_joke)\n",
        "graph.add_node('explain_joke', explain_joke)\n",
        "\n",
        "graph.add_edge(START, 'generate_joke')\n",
        "graph.add_edge('generate_joke', 'explain_joke')\n",
        "graph.add_edge('explain_joke', END)"
      ]
    },
    {
      "cell_type": "code",
      "execution_count": null,
      "id": "d112c6a3",
      "metadata": {
        "id": "d112c6a3",
        "outputId": "9c8e9f98-a04f-43dd-9903-2600d02a5106"
      },
      "outputs": [
        {
          "data": {
            "image/png": "[encoded data removed]",
            "text/plain": [
              "<langgraph.graph.state.CompiledStateGraph object at 0x000001A0FC8F80B0>"
            ]
          },
          "execution_count": 22,
          "metadata": {},
          "output_type": "execute_result"
        }
      ],
      "source": [
        "checkpointer = InMemorySaver()\n",
        "workflow = graph.compile(checkpointer=checkpointer)\n",
        "workflow"
      ]
    },
    {
      "cell_type": "code",
      "execution_count": null,
      "id": "deff238a",
      "metadata": {
        "id": "deff238a"
      },
      "outputs": [],
      "source": [
        "config1 = {'configurable': {'thread_id':'1'}}"
      ]
    },
    {
      "cell_type": "code",
      "execution_count": null,
      "id": "d6dfc984",
      "metadata": {
        "id": "d6dfc984",
        "outputId": "bd668350-c9e2-44f4-ce6a-78d72d400cbe"
      },
      "outputs": [
        {
          "data": {
            "text/plain": [
              "{'topic': 'technology',\n",
              " 'joke': \"Why did the Wi-Fi signal break up with the router?\\n\\nThey just weren't connecting.\",\n",
              " 'explanation': 'It\\'s a pun on the word \"connecting.\"\\n\\n1.  **Literally:** A Wi-Fi signal and router need to \"connect\" to function and provide internet.\\n2.  **Figuratively:** People in a relationship need to \"connect\" emotionally to stay together.\\n\\nThe joke applies the relationship meaning to the technical problem.'}"
            ]
          },
          "execution_count": 27,
          "metadata": {},
          "output_type": "execute_result"
        }
      ],
      "source": [
        "workflow.invoke({'topic':'technology'}, config=config1)"
      ]
    },
    {
      "cell_type": "code",
      "execution_count": null,
      "id": "98e72aaf",
      "metadata": {
        "id": "98e72aaf",
        "outputId": "f79f8594-653f-4395-808b-24fd97599a5b"
      },
      "outputs": [
        {
          "data": {
            "text/plain": [
              "StateSnapshot(values={'topic': 'technology', 'joke': \"Why did the Wi-Fi signal break up with the router?\\n\\nThey just weren't connecting.\", 'explanation': 'It\\'s a pun on the word \"connecting.\"\\n\\n1.  **Literally:** A Wi-Fi signal and router need to \"connect\" to function and provide internet.\\n2.  **Figuratively:** People in a relationship need to \"connect\" emotionally to stay together.\\n\\nThe joke applies the relationship meaning to the technical problem.'}, next=(), config={'configurable': {'thread_id': '1', 'checkpoint_ns': '', 'checkpoint_id': '1f0a2b3a-6b4e-68b3-8002-1f7be30af149'}}, metadata={'source': 'loop', 'step': 2, 'parents': {}}, created_at='2025-10-06T12:54:52.820497+00:00', parent_config={'configurable': {'thread_id': '1', 'checkpoint_ns': '', 'checkpoint_id': '1f0a2b3a-3674-6136-8001-2d0ec31aaa6e'}}, tasks=(), interrupts=())"
            ]
          },
          "execution_count": 29,
          "metadata": {},
          "output_type": "execute_result"
        }
      ],
      "source": [
        "#this final state of workflow\n",
        "workflow.get_state(config1)"
      ]
    },
    {
      "cell_type": "code",
      "execution_count": null,
      "id": "186f4fd8",
      "metadata": {
        "id": "186f4fd8",
        "outputId": "2df270c2-9678-4ff3-e8e9-7ac4d4a52e34"
      },
      "outputs": [
        {
          "data": {
            "text/plain": [
              "[StateSnapshot(values={'topic': 'technology', 'joke': \"Why did the Wi-Fi signal break up with the router?\\n\\nThey just weren't connecting.\", 'explanation': 'It\\'s a pun on the word \"connecting.\"\\n\\n1.  **Literally:** A Wi-Fi signal and router need to \"connect\" to function and provide internet.\\n2.  **Figuratively:** People in a relationship need to \"connect\" emotionally to stay together.\\n\\nThe joke applies the relationship meaning to the technical problem.'}, next=(), config={'configurable': {'thread_id': '1', 'checkpoint_ns': '', 'checkpoint_id': '1f0a2b3a-6b4e-68b3-8002-1f7be30af149'}}, metadata={'source': 'loop', 'step': 2, 'parents': {}}, created_at='2025-10-06T12:54:52.820497+00:00', parent_config={'configurable': {'thread_id': '1', 'checkpoint_ns': '', 'checkpoint_id': '1f0a2b3a-3674-6136-8001-2d0ec31aaa6e'}}, tasks=(), interrupts=()),\n",
              " StateSnapshot(values={'topic': 'technology', 'joke': \"Why did the Wi-Fi signal break up with the router?\\n\\nThey just weren't connecting.\"}, next=('explain_joke',), config={'configurable': {'thread_id': '1', 'checkpoint_ns': '', 'checkpoint_id': '1f0a2b3a-3674-6136-8001-2d0ec31aaa6e'}}, metadata={'source': 'loop', 'step': 1, 'parents': {}}, created_at='2025-10-06T12:54:47.277393+00:00', parent_config={'configurable': {'thread_id': '1', 'checkpoint_ns': '', 'checkpoint_id': '1f0a2b3a-223a-6bbe-8000-babeea2e540f'}}, tasks=(PregelTask(id='13d0818f-e1ef-dae3-9ef2-a843ce64416e', name='explain_joke', path=('__pregel_pull', 'explain_joke'), error=None, interrupts=(), state=None, result={'explanation': 'It\\'s a pun on the word \"connecting.\"\\n\\n1.  **Literally:** A Wi-Fi signal and router need to \"connect\" to function and provide internet.\\n2.  **Figuratively:** People in a relationship need to \"connect\" emotionally to stay together.\\n\\nThe joke applies the relationship meaning to the technical problem.'}),), interrupts=()),\n",
              " StateSnapshot(values={'topic': 'technology'}, next=('generate_joke',), config={'configurable': {'thread_id': '1', 'checkpoint_ns': '', 'checkpoint_id': '1f0a2b3a-223a-6bbe-8000-babeea2e540f'}}, metadata={'source': 'loop', 'step': 0, 'parents': {}}, created_at='2025-10-06T12:54:45.157779+00:00', parent_config={'configurable': {'thread_id': '1', 'checkpoint_ns': '', 'checkpoint_id': '1f0a2b3a-2230-6a41-bfff-db7a5aeddec2'}}, tasks=(PregelTask(id='591f5c00-5cc0-6e96-23d5-b04a56d677ad', name='generate_joke', path=('__pregel_pull', 'generate_joke'), error=None, interrupts=(), state=None, result={'joke': \"Why did the Wi-Fi signal break up with the router?\\n\\nThey just weren't connecting.\"}),), interrupts=()),\n",
              " StateSnapshot(values={}, next=('__start__',), config={'configurable': {'thread_id': '1', 'checkpoint_ns': '', 'checkpoint_id': '1f0a2b3a-2230-6a41-bfff-db7a5aeddec2'}}, metadata={'source': 'input', 'step': -1, 'parents': {}}, created_at='2025-10-06T12:54:45.153644+00:00', parent_config=None, tasks=(PregelTask(id='5ede5589-0dbb-9ebe-f938-27156ed6b23a', name='__start__', path=('__pregel_pull', '__start__'), error=None, interrupts=(), state=None, result={'topic': 'technology'}),), interrupts=())]"
            ]
          },
          "execution_count": 31,
          "metadata": {},
          "output_type": "execute_result"
        }
      ],
      "source": [
        "#the full histroy\n",
        "list(workflow.get_state_history(config1))"
      ]
    },
    {
      "cell_type": "code",
      "execution_count": null,
      "id": "1c8ded1a",
      "metadata": {
        "id": "1c8ded1a",
        "outputId": "470f4aca-c1d1-43a6-e8fa-1106933633be"
      },
      "outputs": [
        {
          "data": {
            "text/plain": [
              "{'topic': 'ai',\n",
              " 'joke': 'Why did the AI break up with the calculator?\\nIt said it needed more emotional processing... and a better algorithm for love.',\n",
              " 'explanation': 'The joke plays on the contrast between AI\\'s logical nature and love\\'s emotional complexity:\\n\\n1.  **AI\\'s desire:** The AI, a machine, is seeking \"emotional processing,\" a very human desire, which a calculator (pure numbers) cannot provide.\\n2.  **Ironic framing:** It still describes love in technical terms (\"better algorithm\"), highlighting its machine perspective on something inherently non-algorithmic.\\n\\nEssentially, the AI is too advanced for the calculator\\'s basic logic, but still too much of a machine to understand love in a truly human way.'}"
            ]
          },
          "execution_count": 32,
          "metadata": {},
          "output_type": "execute_result"
        }
      ],
      "source": [
        "config2 = {\"configurable\": {\"thread_id\": \"2\"}}\n",
        "workflow.invoke({'topic':'ai'}, config=config2)"
      ]
    },
    {
      "cell_type": "code",
      "execution_count": null,
      "id": "1a050509",
      "metadata": {
        "id": "1a050509",
        "outputId": "d5b0caaa-4ed2-4332-935e-7e0f90cb4c95"
      },
      "outputs": [
        {
          "data": {
            "text/plain": [
              "StateSnapshot(values={'topic': 'ai', 'joke': 'Why did the AI break up with the calculator?\\nIt said it needed more emotional processing... and a better algorithm for love.', 'explanation': 'The joke plays on the contrast between AI\\'s logical nature and love\\'s emotional complexity:\\n\\n1.  **AI\\'s desire:** The AI, a machine, is seeking \"emotional processing,\" a very human desire, which a calculator (pure numbers) cannot provide.\\n2.  **Ironic framing:** It still describes love in technical terms (\"better algorithm\"), highlighting its machine perspective on something inherently non-algorithmic.\\n\\nEssentially, the AI is too advanced for the calculator\\'s basic logic, but still too much of a machine to understand love in a truly human way.'}, next=(), config={'configurable': {'thread_id': '2', 'checkpoint_ns': '', 'checkpoint_id': '1f0a2b40-6994-6810-8002-2403a28344b3'}}, metadata={'source': 'loop', 'step': 2, 'parents': {}}, created_at='2025-10-06T12:57:33.700712+00:00', parent_config={'configurable': {'thread_id': '2', 'checkpoint_ns': '', 'checkpoint_id': '1f0a2b3f-d735-62c9-8001-5fbb698b15cb'}}, tasks=(), interrupts=())"
            ]
          },
          "execution_count": 35,
          "metadata": {},
          "output_type": "execute_result"
        }
      ],
      "source": [
        "workflow.get_state(config2)"
      ]
    },
    {
      "cell_type": "code",
      "execution_count": null,
      "id": "80194c7c",
      "metadata": {
        "id": "80194c7c",
        "outputId": "28366739-fe81-41c3-8a5a-910bf35a5224"
      },
      "outputs": [
        {
          "data": {
            "text/plain": [
              "[StateSnapshot(values={'topic': 'ai', 'joke': 'Why did the AI break up with the calculator?\\nIt said it needed more emotional processing... and a better algorithm for love.', 'explanation': 'The joke plays on the contrast between AI\\'s logical nature and love\\'s emotional complexity:\\n\\n1.  **AI\\'s desire:** The AI, a machine, is seeking \"emotional processing,\" a very human desire, which a calculator (pure numbers) cannot provide.\\n2.  **Ironic framing:** It still describes love in technical terms (\"better algorithm\"), highlighting its machine perspective on something inherently non-algorithmic.\\n\\nEssentially, the AI is too advanced for the calculator\\'s basic logic, but still too much of a machine to understand love in a truly human way.'}, next=(), config={'configurable': {'thread_id': '2', 'checkpoint_ns': '', 'checkpoint_id': '1f0a2b40-6994-6810-8002-2403a28344b3'}}, metadata={'source': 'loop', 'step': 2, 'parents': {}}, created_at='2025-10-06T12:57:33.700712+00:00', parent_config={'configurable': {'thread_id': '2', 'checkpoint_ns': '', 'checkpoint_id': '1f0a2b3f-d735-62c9-8001-5fbb698b15cb'}}, tasks=(), interrupts=()),\n",
              " StateSnapshot(values={'topic': 'ai', 'joke': 'Why did the AI break up with the calculator?\\nIt said it needed more emotional processing... and a better algorithm for love.'}, next=('explain_joke',), config={'configurable': {'thread_id': '2', 'checkpoint_ns': '', 'checkpoint_id': '1f0a2b3f-d735-62c9-8001-5fbb698b15cb'}}, metadata={'source': 'loop', 'step': 1, 'parents': {}}, created_at='2025-10-06T12:57:18.352455+00:00', parent_config={'configurable': {'thread_id': '2', 'checkpoint_ns': '', 'checkpoint_id': '1f0a2b3e-db0f-6fbd-8000-2e329799e1ec'}}, tasks=(PregelTask(id='83ea2d10-134f-d2c5-4cfa-6e928a6c4706', name='explain_joke', path=('__pregel_pull', 'explain_joke'), error=None, interrupts=(), state=None, result={'explanation': 'The joke plays on the contrast between AI\\'s logical nature and love\\'s emotional complexity:\\n\\n1.  **AI\\'s desire:** The AI, a machine, is seeking \"emotional processing,\" a very human desire, which a calculator (pure numbers) cannot provide.\\n2.  **Ironic framing:** It still describes love in technical terms (\"better algorithm\"), highlighting its machine perspective on something inherently non-algorithmic.\\n\\nEssentially, the AI is too advanced for the calculator\\'s basic logic, but still too much of a machine to understand love in a truly human way.'}),), interrupts=()),\n",
              " StateSnapshot(values={'topic': 'ai'}, next=('generate_joke',), config={'configurable': {'thread_id': '2', 'checkpoint_ns': '', 'checkpoint_id': '1f0a2b3e-db0f-6fbd-8000-2e329799e1ec'}}, metadata={'source': 'loop', 'step': 0, 'parents': {}}, created_at='2025-10-06T12:56:51.913106+00:00', parent_config={'configurable': {'thread_id': '2', 'checkpoint_ns': '', 'checkpoint_id': '1f0a2b3e-db0c-646b-bfff-a345d75da305'}}, tasks=(PregelTask(id='a700b993-db46-9f47-943b-25bd36d9a47a', name='generate_joke', path=('__pregel_pull', 'generate_joke'), error=None, interrupts=(), state=None, result={'joke': 'Why did the AI break up with the calculator?\\nIt said it needed more emotional processing... and a better algorithm for love.'}),), interrupts=()),\n",
              " StateSnapshot(values={}, next=('__start__',), config={'configurable': {'thread_id': '2', 'checkpoint_ns': '', 'checkpoint_id': '1f0a2b3e-db0c-646b-bfff-a345d75da305'}}, metadata={'source': 'input', 'step': -1, 'parents': {}}, created_at='2025-10-06T12:56:51.911588+00:00', parent_config=None, tasks=(PregelTask(id='2538a4cb-1e2f-38b2-3df7-8e6d81de6ef8', name='__start__', path=('__pregel_pull', '__start__'), error=None, interrupts=(), state=None, result={'topic': 'ai'}),), interrupts=())]"
            ]
          },
          "execution_count": 37,
          "metadata": {},
          "output_type": "execute_result"
        }
      ],
      "source": [
        "list(workflow.get_state_history(config2))"
      ]
    },
    {
      "cell_type": "markdown",
      "id": "84592b3a",
      "metadata": {
        "id": "84592b3a"
      },
      "source": [
        "# Time Travel"
      ]
    },
    {
      "cell_type": "code",
      "execution_count": null,
      "id": "1521efaf",
      "metadata": {
        "id": "1521efaf",
        "outputId": "22ccff20-1bd5-413a-b164-d0b8a032bb4d"
      },
      "outputs": [
        {
          "data": {
            "text/plain": [
              "StateSnapshot(values={'topic': 'technology', 'joke': \"Why did the Wi-Fi signal break up with the router?\\n\\nThey just weren't connecting.\"}, next=('explain_joke',), config={'configurable': {'thread_id': '1', 'checkpoint_id': '1f0a2b3a-3674-6136-8001-2d0ec31aaa6e'}}, metadata={'source': 'loop', 'step': 1, 'parents': {}}, created_at='2025-10-06T12:54:47.277393+00:00', parent_config={'configurable': {'thread_id': '1', 'checkpoint_ns': '', 'checkpoint_id': '1f0a2b3a-223a-6bbe-8000-babeea2e540f'}}, tasks=(PregelTask(id='13d0818f-e1ef-dae3-9ef2-a843ce64416e', name='explain_joke', path=('__pregel_pull', 'explain_joke'), error=None, interrupts=(), state=None, result={'explanation': 'It\\'s a pun on the word \"connecting.\"\\n\\n1.  **Literally:** A Wi-Fi signal and router need to \"connect\" to function and provide internet.\\n2.  **Figuratively:** People in a relationship need to \"connect\" emotionally to stay together.\\n\\nThe joke applies the relationship meaning to the technical problem.'}),), interrupts=())"
            ]
          },
          "execution_count": 40,
          "metadata": {},
          "output_type": "execute_result"
        }
      ],
      "source": [
        "workflow.get_state({\"configurable\": {\"thread_id\": \"1\",'checkpoint_id': '1f0a2b3a-3674-6136-8001-2d0ec31aaa6e'}})"
      ]
    },
    {
      "cell_type": "code",
      "execution_count": null,
      "id": "7109b116",
      "metadata": {
        "id": "7109b116",
        "outputId": "9a094869-e022-45fe-fd67-151b2a8d5c42"
      },
      "outputs": [
        {
          "data": {
            "text/plain": [
              "[StateSnapshot(values={'topic': 'technology', 'joke': 'Why was the computer cold?\\n\\nBecause it left its Windows open!', 'explanation': 'The joke is a pun on the word \"Windows\":\\n\\n1.  **Literal:** Leaving actual windows (in a house) open lets in cold air.\\n2.  **Computer:** \"Windows\" refers to the Microsoft Windows operating system or the application windows on a computer screen.\\n\\nThe humor comes from pretending the computer literally left its \"house windows\" open, causing it to feel cold, when it\\'s actually referring to its software.'}, next=(), config={'configurable': {'thread_id': '1', 'checkpoint_ns': '', 'checkpoint_id': '1f0a2b68-63ec-6d0f-8002-7ef9928f6188'}}, metadata={'source': 'loop', 'step': 2, 'parents': {}}, created_at='2025-10-06T13:15:26.849563+00:00', parent_config={'configurable': {'thread_id': '1', 'checkpoint_ns': '', 'checkpoint_id': '1f0a2b68-0691-68c6-8001-f8b746ca6d06'}}, tasks=(), interrupts=()),\n",
              " StateSnapshot(values={'topic': 'technology', 'joke': 'Why was the computer cold?\\n\\nBecause it left its Windows open!'}, next=('explain_joke',), config={'configurable': {'thread_id': '1', 'checkpoint_ns': '', 'checkpoint_id': '1f0a2b68-0691-68c6-8001-f8b746ca6d06'}}, metadata={'source': 'loop', 'step': 1, 'parents': {}}, created_at='2025-10-06T13:15:17.060423+00:00', parent_config={'configurable': {'thread_id': '1', 'checkpoint_ns': '', 'checkpoint_id': '1f0a2b3a-223a-6bbe-8000-babeea2e540f'}}, tasks=(PregelTask(id='6cd74ae3-8a9e-4c62-d3f0-b9122275522e', name='explain_joke', path=('__pregel_pull', 'explain_joke'), error=None, interrupts=(), state=None, result={'explanation': 'The joke is a pun on the word \"Windows\":\\n\\n1.  **Literal:** Leaving actual windows (in a house) open lets in cold air.\\n2.  **Computer:** \"Windows\" refers to the Microsoft Windows operating system or the application windows on a computer screen.\\n\\nThe humor comes from pretending the computer literally left its \"house windows\" open, causing it to feel cold, when it\\'s actually referring to its software.'}),), interrupts=()),\n",
              " StateSnapshot(values={'topic': 'technology', 'joke': \"Why did the Wi-Fi signal break up with the router?\\n\\nThey just weren't connecting.\", 'explanation': 'It\\'s a pun on the word \"connecting.\"\\n\\n1.  **Literally:** A Wi-Fi signal and router need to \"connect\" to function and provide internet.\\n2.  **Figuratively:** People in a relationship need to \"connect\" emotionally to stay together.\\n\\nThe joke applies the relationship meaning to the technical problem.'}, next=(), config={'configurable': {'thread_id': '1', 'checkpoint_ns': '', 'checkpoint_id': '1f0a2b3a-6b4e-68b3-8002-1f7be30af149'}}, metadata={'source': 'loop', 'step': 2, 'parents': {}}, created_at='2025-10-06T12:54:52.820497+00:00', parent_config={'configurable': {'thread_id': '1', 'checkpoint_ns': '', 'checkpoint_id': '1f0a2b3a-3674-6136-8001-2d0ec31aaa6e'}}, tasks=(), interrupts=()),\n",
              " StateSnapshot(values={'topic': 'technology', 'joke': \"Why did the Wi-Fi signal break up with the router?\\n\\nThey just weren't connecting.\"}, next=('explain_joke',), config={'configurable': {'thread_id': '1', 'checkpoint_ns': '', 'checkpoint_id': '1f0a2b3a-3674-6136-8001-2d0ec31aaa6e'}}, metadata={'source': 'loop', 'step': 1, 'parents': {}}, created_at='2025-10-06T12:54:47.277393+00:00', parent_config={'configurable': {'thread_id': '1', 'checkpoint_ns': '', 'checkpoint_id': '1f0a2b3a-223a-6bbe-8000-babeea2e540f'}}, tasks=(PregelTask(id='13d0818f-e1ef-dae3-9ef2-a843ce64416e', name='explain_joke', path=('__pregel_pull', 'explain_joke'), error=None, interrupts=(), state=None, result={'explanation': 'It\\'s a pun on the word \"connecting.\"\\n\\n1.  **Literally:** A Wi-Fi signal and router need to \"connect\" to function and provide internet.\\n2.  **Figuratively:** People in a relationship need to \"connect\" emotionally to stay together.\\n\\nThe joke applies the relationship meaning to the technical problem.'}),), interrupts=()),\n",
              " StateSnapshot(values={'topic': 'technology'}, next=('generate_joke',), config={'configurable': {'thread_id': '1', 'checkpoint_ns': '', 'checkpoint_id': '1f0a2b3a-223a-6bbe-8000-babeea2e540f'}}, metadata={'source': 'loop', 'step': 0, 'parents': {}}, created_at='2025-10-06T12:54:45.157779+00:00', parent_config={'configurable': {'thread_id': '1', 'checkpoint_ns': '', 'checkpoint_id': '1f0a2b3a-2230-6a41-bfff-db7a5aeddec2'}}, tasks=(PregelTask(id='591f5c00-5cc0-6e96-23d5-b04a56d677ad', name='generate_joke', path=('__pregel_pull', 'generate_joke'), error=None, interrupts=(), state=None, result={'joke': \"Why did the Wi-Fi signal break up with the router?\\n\\nThey just weren't connecting.\"}),), interrupts=()),\n",
              " StateSnapshot(values={}, next=('__start__',), config={'configurable': {'thread_id': '1', 'checkpoint_ns': '', 'checkpoint_id': '1f0a2b3a-2230-6a41-bfff-db7a5aeddec2'}}, metadata={'source': 'input', 'step': -1, 'parents': {}}, created_at='2025-10-06T12:54:45.153644+00:00', parent_config=None, tasks=(PregelTask(id='5ede5589-0dbb-9ebe-f938-27156ed6b23a', name='__start__', path=('__pregel_pull', '__start__'), error=None, interrupts=(), state=None, result={'topic': 'technology'}),), interrupts=())]"
            ]
          },
          "execution_count": 44,
          "metadata": {},
          "output_type": "execute_result"
        }
      ],
      "source": [
        "list(workflow.get_state_history(config1))"
      ]
    },
    {
      "cell_type": "code",
      "execution_count": null,
      "id": "f18b26f5",
      "metadata": {
        "id": "f18b26f5",
        "outputId": "fb2f28dc-99cc-448e-d643-3a7670f29d0b"
      },
      "outputs": [
        {
          "data": {
            "text/plain": [
              "{'topic': 'technology',\n",
              " 'joke': 'Why was the computer cold?\\n\\nBecause it left its Windows open!',\n",
              " 'explanation': 'The joke is a pun on the word \"Windows\":\\n\\n1.  **Literal:** Leaving actual windows (in a house) open lets in cold air.\\n2.  **Computer:** \"Windows\" refers to the Microsoft Windows operating system or the application windows on a computer screen.\\n\\nThe humor comes from pretending the computer literally left its \"house windows\" open, causing it to feel cold, when it\\'s actually referring to its software.'}"
            ]
          },
          "execution_count": 43,
          "metadata": {},
          "output_type": "execute_result"
        }
      ],
      "source": [
        "workflow.invoke(None, {'configurable':{'thread_id':'1', 'checkpoint_id': '1f0a2b3a-223a-6bbe-8000-babeea2e540f'}})"
      ]
    },
    {
      "cell_type": "markdown",
      "id": "a8a52f17",
      "metadata": {
        "id": "a8a52f17"
      },
      "source": [
        "# Update State"
      ]
    },
    {
      "cell_type": "code",
      "execution_count": null,
      "id": "f686dc0d",
      "metadata": {
        "id": "f686dc0d",
        "outputId": "6b13d4e5-71fd-49ba-89bb-c23dd2706010"
      },
      "outputs": [
        {
          "data": {
            "text/plain": [
              "{'configurable': {'thread_id': '1',\n",
              "  'checkpoint_ns': '',\n",
              "  'checkpoint_id': '1f0a2b75-fb61-627a-8001-44f87fda1307'}}"
            ]
          },
          "execution_count": 50,
          "metadata": {},
          "output_type": "execute_result"
        }
      ],
      "source": [
        "# this is the spet of Update state this also store into the history\n",
        "workflow.update_state({'configurable':{'thread_id':'1', 'checkpoint_id': '1f0a2b3a-223a-6bbe-8000-babeea2e540f',  \"checkpoint_ns\": \"\"}}, {\"topic\":'Harshil'})"
      ]
    },
    {
      "cell_type": "code",
      "execution_count": null,
      "id": "24857e40",
      "metadata": {
        "id": "24857e40",
        "outputId": "c9024ed4-1048-4780-c816-61d354f8f1c0"
      },
      "outputs": [
        {
          "data": {
            "text/plain": [
              "[StateSnapshot(values={'topic': 'Harshil'}, next=('generate_joke',), config={'configurable': {'thread_id': '1', 'checkpoint_ns': '', 'checkpoint_id': '1f0a2b75-fb61-627a-8001-44f87fda1307'}}, metadata={'source': 'update', 'step': 1, 'parents': {}}, created_at='2025-10-06T13:21:31.696805+00:00', parent_config={'configurable': {'thread_id': '1', 'checkpoint_ns': '', 'checkpoint_id': '1f0a2b3a-223a-6bbe-8000-babeea2e540f'}}, tasks=(PregelTask(id='6d5b0bbe-30e5-a13c-9eca-723ea5764b12', name='generate_joke', path=('__pregel_pull', 'generate_joke'), error=None, interrupts=(), state=None, result=None),), interrupts=()),\n",
              " StateSnapshot(values={'topic': 'Harshil'}, next=('generate_joke',), config={'configurable': {'thread_id': '1', 'checkpoint_ns': '', 'checkpoint_id': '1f0a2b72-e933-60f4-8001-7fe8ccbfcbfa'}}, metadata={'source': 'update', 'step': 1, 'parents': {}}, created_at='2025-10-06T13:20:09.259851+00:00', parent_config={'configurable': {'thread_id': '1', 'checkpoint_ns': '', 'checkpoint_id': '1f0a2b3a-223a-6bbe-8000-babeea2e540f'}}, tasks=(PregelTask(id='e9c7878d-b3de-b66d-f060-4d97ae2404c6', name='generate_joke', path=('__pregel_pull', 'generate_joke'), error=None, interrupts=(), state=None, result=None),), interrupts=()),\n",
              " StateSnapshot(values={'topic': 'technology', 'joke': 'Why was the computer cold?\\n\\nBecause it left its Windows open!', 'explanation': 'The joke is a pun on the word \"Windows\":\\n\\n1.  **Literal:** Leaving actual windows (in a house) open lets in cold air.\\n2.  **Computer:** \"Windows\" refers to the Microsoft Windows operating system or the application windows on a computer screen.\\n\\nThe humor comes from pretending the computer literally left its \"house windows\" open, causing it to feel cold, when it\\'s actually referring to its software.'}, next=(), config={'configurable': {'thread_id': '1', 'checkpoint_ns': '', 'checkpoint_id': '1f0a2b68-63ec-6d0f-8002-7ef9928f6188'}}, metadata={'source': 'loop', 'step': 2, 'parents': {}}, created_at='2025-10-06T13:15:26.849563+00:00', parent_config={'configurable': {'thread_id': '1', 'checkpoint_ns': '', 'checkpoint_id': '1f0a2b68-0691-68c6-8001-f8b746ca6d06'}}, tasks=(), interrupts=()),\n",
              " StateSnapshot(values={'topic': 'technology', 'joke': 'Why was the computer cold?\\n\\nBecause it left its Windows open!'}, next=('explain_joke',), config={'configurable': {'thread_id': '1', 'checkpoint_ns': '', 'checkpoint_id': '1f0a2b68-0691-68c6-8001-f8b746ca6d06'}}, metadata={'source': 'loop', 'step': 1, 'parents': {}}, created_at='2025-10-06T13:15:17.060423+00:00', parent_config={'configurable': {'thread_id': '1', 'checkpoint_ns': '', 'checkpoint_id': '1f0a2b3a-223a-6bbe-8000-babeea2e540f'}}, tasks=(PregelTask(id='6cd74ae3-8a9e-4c62-d3f0-b9122275522e', name='explain_joke', path=('__pregel_pull', 'explain_joke'), error=None, interrupts=(), state=None, result={'explanation': 'The joke is a pun on the word \"Windows\":\\n\\n1.  **Literal:** Leaving actual windows (in a house) open lets in cold air.\\n2.  **Computer:** \"Windows\" refers to the Microsoft Windows operating system or the application windows on a computer screen.\\n\\nThe humor comes from pretending the computer literally left its \"house windows\" open, causing it to feel cold, when it\\'s actually referring to its software.'}),), interrupts=()),\n",
              " StateSnapshot(values={'topic': 'technology', 'joke': \"Why did the Wi-Fi signal break up with the router?\\n\\nThey just weren't connecting.\", 'explanation': 'It\\'s a pun on the word \"connecting.\"\\n\\n1.  **Literally:** A Wi-Fi signal and router need to \"connect\" to function and provide internet.\\n2.  **Figuratively:** People in a relationship need to \"connect\" emotionally to stay together.\\n\\nThe joke applies the relationship meaning to the technical problem.'}, next=(), config={'configurable': {'thread_id': '1', 'checkpoint_ns': '', 'checkpoint_id': '1f0a2b3a-6b4e-68b3-8002-1f7be30af149'}}, metadata={'source': 'loop', 'step': 2, 'parents': {}}, created_at='2025-10-06T12:54:52.820497+00:00', parent_config={'configurable': {'thread_id': '1', 'checkpoint_ns': '', 'checkpoint_id': '1f0a2b3a-3674-6136-8001-2d0ec31aaa6e'}}, tasks=(), interrupts=()),\n",
              " StateSnapshot(values={'topic': 'technology', 'joke': \"Why did the Wi-Fi signal break up with the router?\\n\\nThey just weren't connecting.\"}, next=('explain_joke',), config={'configurable': {'thread_id': '1', 'checkpoint_ns': '', 'checkpoint_id': '1f0a2b3a-3674-6136-8001-2d0ec31aaa6e'}}, metadata={'source': 'loop', 'step': 1, 'parents': {}}, created_at='2025-10-06T12:54:47.277393+00:00', parent_config={'configurable': {'thread_id': '1', 'checkpoint_ns': '', 'checkpoint_id': '1f0a2b3a-223a-6bbe-8000-babeea2e540f'}}, tasks=(PregelTask(id='13d0818f-e1ef-dae3-9ef2-a843ce64416e', name='explain_joke', path=('__pregel_pull', 'explain_joke'), error=None, interrupts=(), state=None, result={'explanation': 'It\\'s a pun on the word \"connecting.\"\\n\\n1.  **Literally:** A Wi-Fi signal and router need to \"connect\" to function and provide internet.\\n2.  **Figuratively:** People in a relationship need to \"connect\" emotionally to stay together.\\n\\nThe joke applies the relationship meaning to the technical problem.'}),), interrupts=()),\n",
              " StateSnapshot(values={'topic': 'technology'}, next=('generate_joke',), config={'configurable': {'thread_id': '1', 'checkpoint_ns': '', 'checkpoint_id': '1f0a2b3a-223a-6bbe-8000-babeea2e540f'}}, metadata={'source': 'loop', 'step': 0, 'parents': {}}, created_at='2025-10-06T12:54:45.157779+00:00', parent_config={'configurable': {'thread_id': '1', 'checkpoint_ns': '', 'checkpoint_id': '1f0a2b3a-2230-6a41-bfff-db7a5aeddec2'}}, tasks=(PregelTask(id='591f5c00-5cc0-6e96-23d5-b04a56d677ad', name='generate_joke', path=('__pregel_pull', 'generate_joke'), error=None, interrupts=(), state=None, result={'joke': \"Why did the Wi-Fi signal break up with the router?\\n\\nThey just weren't connecting.\"}),), interrupts=()),\n",
              " StateSnapshot(values={}, next=('__start__',), config={'configurable': {'thread_id': '1', 'checkpoint_ns': '', 'checkpoint_id': '1f0a2b3a-2230-6a41-bfff-db7a5aeddec2'}}, metadata={'source': 'input', 'step': -1, 'parents': {}}, created_at='2025-10-06T12:54:45.153644+00:00', parent_config=None, tasks=(PregelTask(id='5ede5589-0dbb-9ebe-f938-27156ed6b23a', name='__start__', path=('__pregel_pull', '__start__'), error=None, interrupts=(), state=None, result={'topic': 'technology'}),), interrupts=())]"
            ]
          },
          "execution_count": 51,
          "metadata": {},
          "output_type": "execute_result"
        }
      ],
      "source": [
        "list(workflow.get_state_history(config1))"
      ]
    },
    {
      "cell_type": "code",
      "execution_count": null,
      "id": "54cb88cd",
      "metadata": {
        "id": "54cb88cd",
        "outputId": "c3435e99-4174-4089-dbc3-34aa0c1076b0"
      },
      "outputs": [
        {
          "data": {
            "text/plain": [
              "{'topic': 'Harshil',\n",
              " 'joke': 'Why did Harshil get confused at the \"gentle\" yoga class?\\nBecause everyone expected him to be... well, a little more **harsh**!',\n",
              " 'explanation': 'The joke is a **pun** on the name \"Harshil,\" which sounds very similar to the word \"**harsh**.\"\\n\\nThe humor comes from the ironic expectation that someone named \"Harshil\" would be the opposite of \"gentle\" in a yoga class, based purely on his name.'}"
            ]
          },
          "execution_count": 52,
          "metadata": {},
          "output_type": "execute_result"
        }
      ],
      "source": [
        "workflow.invoke(None, {'configurable':{'thread_id':'1', 'checkpoint_id': '1f0a2b75-fb61-627a-8001-44f87fda1307'}})"
      ]
    },
    {
      "cell_type": "code",
      "execution_count": null,
      "id": "28f4ba9b",
      "metadata": {
        "id": "28f4ba9b",
        "outputId": "345b188d-d1d5-4d52-e374-77d083ab0d8d"
      },
      "outputs": [
        {
          "data": {
            "text/plain": [
              "[StateSnapshot(values={'topic': 'Harshil', 'joke': 'Why did Harshil get confused at the \"gentle\" yoga class?\\nBecause everyone expected him to be... well, a little more **harsh**!', 'explanation': 'The joke is a **pun** on the name \"Harshil,\" which sounds very similar to the word \"**harsh**.\"\\n\\nThe humor comes from the ironic expectation that someone named \"Harshil\" would be the opposite of \"gentle\" in a yoga class, based purely on his name.'}, next=(), config={'configurable': {'thread_id': '1', 'checkpoint_ns': '', 'checkpoint_id': '1f0a2b7a-9443-6b66-8003-d4faf2eef997'}}, metadata={'source': 'loop', 'step': 3, 'parents': {}}, created_at='2025-10-06T13:23:35.102141+00:00', parent_config={'configurable': {'thread_id': '1', 'checkpoint_ns': '', 'checkpoint_id': '1f0a2b7a-2417-630a-8002-3a78901e197b'}}, tasks=(), interrupts=()),\n",
              " StateSnapshot(values={'topic': 'Harshil', 'joke': 'Why did Harshil get confused at the \"gentle\" yoga class?\\nBecause everyone expected him to be... well, a little more **harsh**!'}, next=('explain_joke',), config={'configurable': {'thread_id': '1', 'checkpoint_ns': '', 'checkpoint_id': '1f0a2b7a-2417-630a-8002-3a78901e197b'}}, metadata={'source': 'loop', 'step': 2, 'parents': {}}, created_at='2025-10-06T13:23:23.339853+00:00', parent_config={'configurable': {'thread_id': '1', 'checkpoint_ns': '', 'checkpoint_id': '1f0a2b75-fb61-627a-8001-44f87fda1307'}}, tasks=(PregelTask(id='28369e84-9417-c250-a597-75ad52f974f7', name='explain_joke', path=('__pregel_pull', 'explain_joke'), error=None, interrupts=(), state=None, result={'explanation': 'The joke is a **pun** on the name \"Harshil,\" which sounds very similar to the word \"**harsh**.\"\\n\\nThe humor comes from the ironic expectation that someone named \"Harshil\" would be the opposite of \"gentle\" in a yoga class, based purely on his name.'}),), interrupts=()),\n",
              " StateSnapshot(values={'topic': 'Harshil'}, next=('generate_joke',), config={'configurable': {'thread_id': '1', 'checkpoint_ns': '', 'checkpoint_id': '1f0a2b75-fb61-627a-8001-44f87fda1307'}}, metadata={'source': 'update', 'step': 1, 'parents': {}}, created_at='2025-10-06T13:21:31.696805+00:00', parent_config={'configurable': {'thread_id': '1', 'checkpoint_ns': '', 'checkpoint_id': '1f0a2b3a-223a-6bbe-8000-babeea2e540f'}}, tasks=(PregelTask(id='6d5b0bbe-30e5-a13c-9eca-723ea5764b12', name='generate_joke', path=('__pregel_pull', 'generate_joke'), error=None, interrupts=(), state=None, result={'joke': 'Why did Harshil get confused at the \"gentle\" yoga class?\\nBecause everyone expected him to be... well, a little more **harsh**!'}),), interrupts=()),\n",
              " StateSnapshot(values={'topic': 'Harshil'}, next=('generate_joke',), config={'configurable': {'thread_id': '1', 'checkpoint_ns': '', 'checkpoint_id': '1f0a2b72-e933-60f4-8001-7fe8ccbfcbfa'}}, metadata={'source': 'update', 'step': 1, 'parents': {}}, created_at='2025-10-06T13:20:09.259851+00:00', parent_config={'configurable': {'thread_id': '1', 'checkpoint_ns': '', 'checkpoint_id': '1f0a2b3a-223a-6bbe-8000-babeea2e540f'}}, tasks=(PregelTask(id='e9c7878d-b3de-b66d-f060-4d97ae2404c6', name='generate_joke', path=('__pregel_pull', 'generate_joke'), error=None, interrupts=(), state=None, result=None),), interrupts=()),\n",
              " StateSnapshot(values={'topic': 'technology', 'joke': 'Why was the computer cold?\\n\\nBecause it left its Windows open!', 'explanation': 'The joke is a pun on the word \"Windows\":\\n\\n1.  **Literal:** Leaving actual windows (in a house) open lets in cold air.\\n2.  **Computer:** \"Windows\" refers to the Microsoft Windows operating system or the application windows on a computer screen.\\n\\nThe humor comes from pretending the computer literally left its \"house windows\" open, causing it to feel cold, when it\\'s actually referring to its software.'}, next=(), config={'configurable': {'thread_id': '1', 'checkpoint_ns': '', 'checkpoint_id': '1f0a2b68-63ec-6d0f-8002-7ef9928f6188'}}, metadata={'source': 'loop', 'step': 2, 'parents': {}}, created_at='2025-10-06T13:15:26.849563+00:00', parent_config={'configurable': {'thread_id': '1', 'checkpoint_ns': '', 'checkpoint_id': '1f0a2b68-0691-68c6-8001-f8b746ca6d06'}}, tasks=(), interrupts=()),\n",
              " StateSnapshot(values={'topic': 'technology', 'joke': 'Why was the computer cold?\\n\\nBecause it left its Windows open!'}, next=('explain_joke',), config={'configurable': {'thread_id': '1', 'checkpoint_ns': '', 'checkpoint_id': '1f0a2b68-0691-68c6-8001-f8b746ca6d06'}}, metadata={'source': 'loop', 'step': 1, 'parents': {}}, created_at='2025-10-06T13:15:17.060423+00:00', parent_config={'configurable': {'thread_id': '1', 'checkpoint_ns': '', 'checkpoint_id': '1f0a2b3a-223a-6bbe-8000-babeea2e540f'}}, tasks=(PregelTask(id='6cd74ae3-8a9e-4c62-d3f0-b9122275522e', name='explain_joke', path=('__pregel_pull', 'explain_joke'), error=None, interrupts=(), state=None, result={'explanation': 'The joke is a pun on the word \"Windows\":\\n\\n1.  **Literal:** Leaving actual windows (in a house) open lets in cold air.\\n2.  **Computer:** \"Windows\" refers to the Microsoft Windows operating system or the application windows on a computer screen.\\n\\nThe humor comes from pretending the computer literally left its \"house windows\" open, causing it to feel cold, when it\\'s actually referring to its software.'}),), interrupts=()),\n",
              " StateSnapshot(values={'topic': 'technology', 'joke': \"Why did the Wi-Fi signal break up with the router?\\n\\nThey just weren't connecting.\", 'explanation': 'It\\'s a pun on the word \"connecting.\"\\n\\n1.  **Literally:** A Wi-Fi signal and router need to \"connect\" to function and provide internet.\\n2.  **Figuratively:** People in a relationship need to \"connect\" emotionally to stay together.\\n\\nThe joke applies the relationship meaning to the technical problem.'}, next=(), config={'configurable': {'thread_id': '1', 'checkpoint_ns': '', 'checkpoint_id': '1f0a2b3a-6b4e-68b3-8002-1f7be30af149'}}, metadata={'source': 'loop', 'step': 2, 'parents': {}}, created_at='2025-10-06T12:54:52.820497+00:00', parent_config={'configurable': {'thread_id': '1', 'checkpoint_ns': '', 'checkpoint_id': '1f0a2b3a-3674-6136-8001-2d0ec31aaa6e'}}, tasks=(), interrupts=()),\n",
              " StateSnapshot(values={'topic': 'technology', 'joke': \"Why did the Wi-Fi signal break up with the router?\\n\\nThey just weren't connecting.\"}, next=('explain_joke',), config={'configurable': {'thread_id': '1', 'checkpoint_ns': '', 'checkpoint_id': '1f0a2b3a-3674-6136-8001-2d0ec31aaa6e'}}, metadata={'source': 'loop', 'step': 1, 'parents': {}}, created_at='2025-10-06T12:54:47.277393+00:00', parent_config={'configurable': {'thread_id': '1', 'checkpoint_ns': '', 'checkpoint_id': '1f0a2b3a-223a-6bbe-8000-babeea2e540f'}}, tasks=(PregelTask(id='13d0818f-e1ef-dae3-9ef2-a843ce64416e', name='explain_joke', path=('__pregel_pull', 'explain_joke'), error=None, interrupts=(), state=None, result={'explanation': 'It\\'s a pun on the word \"connecting.\"\\n\\n1.  **Literally:** A Wi-Fi signal and router need to \"connect\" to function and provide internet.\\n2.  **Figuratively:** People in a relationship need to \"connect\" emotionally to stay together.\\n\\nThe joke applies the relationship meaning to the technical problem.'}),), interrupts=()),\n",
              " StateSnapshot(values={'topic': 'technology'}, next=('generate_joke',), config={'configurable': {'thread_id': '1', 'checkpoint_ns': '', 'checkpoint_id': '1f0a2b3a-223a-6bbe-8000-babeea2e540f'}}, metadata={'source': 'loop', 'step': 0, 'parents': {}}, created_at='2025-10-06T12:54:45.157779+00:00', parent_config={'configurable': {'thread_id': '1', 'checkpoint_ns': '', 'checkpoint_id': '1f0a2b3a-2230-6a41-bfff-db7a5aeddec2'}}, tasks=(PregelTask(id='591f5c00-5cc0-6e96-23d5-b04a56d677ad', name='generate_joke', path=('__pregel_pull', 'generate_joke'), error=None, interrupts=(), state=None, result={'joke': \"Why did the Wi-Fi signal break up with the router?\\n\\nThey just weren't connecting.\"}),), interrupts=()),\n",
              " StateSnapshot(values={}, next=('__start__',), config={'configurable': {'thread_id': '1', 'checkpoint_ns': '', 'checkpoint_id': '1f0a2b3a-2230-6a41-bfff-db7a5aeddec2'}}, metadata={'source': 'input', 'step': -1, 'parents': {}}, created_at='2025-10-06T12:54:45.153644+00:00', parent_config=None, tasks=(PregelTask(id='5ede5589-0dbb-9ebe-f938-27156ed6b23a', name='__start__', path=('__pregel_pull', '__start__'), error=None, interrupts=(), state=None, result={'topic': 'technology'}),), interrupts=())]"
            ]
          },
          "execution_count": 54,
          "metadata": {},
          "output_type": "execute_result"
        }
      ],
      "source": [
        "list(workflow.get_state_history(config1))"
      ]
    },
    {
      "cell_type": "markdown",
      "id": "ed903bc9",
      "metadata": {
        "id": "ed903bc9"
      },
      "source": [
        "# Fault Tolerance"
      ]
    },
    {
      "cell_type": "code",
      "execution_count": 25,
      "id": "8c5c5bed",
      "metadata": {
        "id": "8c5c5bed"
      },
      "outputs": [],
      "source": [
        "from langgraph.graph import StateGraph, END\n",
        "from langgraph.checkpoint.memory import InMemorySaver\n",
        "from typing import TypedDict\n",
        "import time"
      ]
    },
    {
      "cell_type": "code",
      "execution_count": 26,
      "id": "cb960131",
      "metadata": {
        "id": "cb960131"
      },
      "outputs": [],
      "source": [
        "\n",
        "# 1. Define the state\n",
        "class CrashState(TypedDict):\n",
        "    input: str\n",
        "    step1: str\n",
        "    step2: str"
      ]
    },
    {
      "cell_type": "code",
      "execution_count": 27,
      "id": "710a3dff",
      "metadata": {
        "id": "710a3dff"
      },
      "outputs": [],
      "source": [
        "# 2. Define steps\n",
        "def step_1(state: CrashState) -> CrashState:\n",
        "    print(\"✅ Step 1 executed\")\n",
        "    return {\"step1\": \"done\", \"input\": state[\"input\"]}\n",
        "\n",
        "def step_2(state: CrashState) -> CrashState:\n",
        "    print(\"⏳ Step 2 hanging... now manually interrupt from the notebook toolbar (STOP button)\")\n",
        "    time.sleep(10)  # Simulate long-running hang\n",
        "    return {\"step2\": \"done\"}\n",
        "\n",
        "def step_3(state: CrashState) -> CrashState:\n",
        "    print(\"✅ Step 3 executed\")\n",
        "    return {\"done\": True}"
      ]
    },
    {
      "cell_type": "code",
      "execution_count": 33,
      "id": "3bae28a0",
      "metadata": {
        "colab": {
          "base_uri": "https://localhost:8080/",
          "height": 449
        },
        "id": "3bae28a0",
        "outputId": "153ab1aa-8617-47e6-fdac-652014250319"
      },
      "outputs": [
        {
          "data": {
            "image/png": "[encoded data removed]",
            "text/plain": [
              "<langgraph.graph.state.CompiledStateGraph object at 0x780a432237d0>"
            ]
          },
          "execution_count": 33,
          "metadata": {},
          "output_type": "execute_result"
        }
      ],
      "source": [
        "# 3. Build the graph\n",
        "builder = StateGraph(CrashState)\n",
        "builder.add_node(\"step_1\", step_1)\n",
        "builder.add_node(\"step_2\", step_2)\n",
        "builder.add_node(\"step_3\", step_3)\n",
        "\n",
        "builder.set_entry_point(\"step_1\")\n",
        "builder.add_edge(\"step_1\", \"step_2\")\n",
        "builder.add_edge(\"step_2\", \"step_3\")\n",
        "builder.add_edge(\"step_3\", END)\n",
        "\n",
        "checkpointer = InMemorySaver()\n",
        "graph = builder.compile(checkpointer=checkpointer)\n",
        "graph"
      ]
    },
    {
      "cell_type": "code",
      "execution_count": 34,
      "id": "e944a2e5",
      "metadata": {
        "colab": {
          "base_uri": "https://localhost:8080/"
        },
        "id": "e944a2e5",
        "outputId": "9feef901-9762-40ac-c310-260426fc03e3"
      },
      "outputs": [
        {
          "name": "stdout",
          "output_type": "stream",
          "text": [
            "▶️ Running graph: Please manually interrupt during Step 2...\n",
            "✅ Step 1 executed\n",
            "⏳ Step 2 hanging... now manually interrupt from the notebook toolbar (STOP button)\n",
            "❌ Kernel manually interrupted (crash simulated).\n"
          ]
        }
      ],
      "source": [
        "try:\n",
        "    print(\"▶️ Running graph: Please manually interrupt during Step 2...\")\n",
        "    graph.invoke({\"input\": \"start\"}, config={\"configurable\": {\"thread_id\": 'thread-1'}})\n",
        "except KeyboardInterrupt:\n",
        "    print(\"❌ Kernel manually interrupted (crash simulated).\")"
      ]
    },
    {
      "cell_type": "code",
      "execution_count": 35,
      "id": "ruTUditjxiSY",
      "metadata": {
        "colab": {
          "base_uri": "https://localhost:8080/"
        },
        "id": "ruTUditjxiSY",
        "outputId": "f8334b84-aba5-415f-993f-e1a3f67e6c71"
      },
      "outputs": [
        {
          "data": {
            "text/plain": [
              "StateSnapshot(values={'input': 'start', 'step1': 'done'}, next=('step_2',), config={'configurable': {'thread_id': 'thread-1', 'checkpoint_ns': '', 'checkpoint_id': '1f0a2bbf-834a-6fd1-8001-5ab55332187e'}}, metadata={'source': 'loop', 'step': 1, 'parents': {}}, created_at='2025-10-06T13:54:25.527160+00:00', parent_config={'configurable': {'thread_id': 'thread-1', 'checkpoint_ns': '', 'checkpoint_id': '1f0a2bbf-8345-66ea-8000-ebb8c34f14b8'}}, tasks=(PregelTask(id='a718b8fb-29e3-cd88-911b-33977f2a3d52', name='step_2', path=('__pregel_pull', 'step_2'), error=None, interrupts=(), state=None, result=None),), interrupts=())"
            ]
          },
          "execution_count": 35,
          "metadata": {},
          "output_type": "execute_result"
        }
      ],
      "source": [
        "graph.get_state({\"configurable\": {\"thread_id\": 'thread-1'}})"
      ]
    },
    {
      "cell_type": "code",
      "execution_count": 36,
      "id": "Ku0ouGTEwszi",
      "metadata": {
        "colab": {
          "base_uri": "https://localhost:8080/"
        },
        "id": "Ku0ouGTEwszi",
        "outputId": "1ccee74e-9501-4a13-e253-c9b23510c84c"
      },
      "outputs": [
        {
          "data": {
            "text/plain": [
              "[StateSnapshot(values={'input': 'start', 'step1': 'done'}, next=('step_2',), config={'configurable': {'thread_id': 'thread-1', 'checkpoint_ns': '', 'checkpoint_id': '1f0a2bbf-834a-6fd1-8001-5ab55332187e'}}, metadata={'source': 'loop', 'step': 1, 'parents': {}}, created_at='2025-10-06T13:54:25.527160+00:00', parent_config={'configurable': {'thread_id': 'thread-1', 'checkpoint_ns': '', 'checkpoint_id': '1f0a2bbf-8345-66ea-8000-ebb8c34f14b8'}}, tasks=(PregelTask(id='a718b8fb-29e3-cd88-911b-33977f2a3d52', name='step_2', path=('__pregel_pull', 'step_2'), error=None, interrupts=(), state=None, result=None),), interrupts=()),\n",
              " StateSnapshot(values={'input': 'start'}, next=('step_1',), config={'configurable': {'thread_id': 'thread-1', 'checkpoint_ns': '', 'checkpoint_id': '1f0a2bbf-8345-66ea-8000-ebb8c34f14b8'}}, metadata={'source': 'loop', 'step': 0, 'parents': {}}, created_at='2025-10-06T13:54:25.524885+00:00', parent_config={'configurable': {'thread_id': 'thread-1', 'checkpoint_ns': '', 'checkpoint_id': '1f0a2bbf-8341-65dc-bfff-fc3d3bc58951'}}, tasks=(PregelTask(id='5a8b8c6e-9dd4-0d18-5af2-57cc0999d89f', name='step_1', path=('__pregel_pull', 'step_1'), error=None, interrupts=(), state=None, result={'step1': 'done', 'input': 'start'}),), interrupts=()),\n",
              " StateSnapshot(values={}, next=('__start__',), config={'configurable': {'thread_id': 'thread-1', 'checkpoint_ns': '', 'checkpoint_id': '1f0a2bbf-8341-65dc-bfff-fc3d3bc58951'}}, metadata={'source': 'input', 'step': -1, 'parents': {}}, created_at='2025-10-06T13:54:25.523217+00:00', parent_config=None, tasks=(PregelTask(id='30c50841-590a-a506-b16c-6daf2f521eeb', name='__start__', path=('__pregel_pull', '__start__'), error=None, interrupts=(), state=None, result={'input': 'start'}),), interrupts=())]"
            ]
          },
          "execution_count": 36,
          "metadata": {},
          "output_type": "execute_result"
        }
      ],
      "source": [
        "list(graph.get_state_history({\"configurable\": {\"thread_id\": 'thread-1'}}))"
      ]
    },
    {
      "cell_type": "code",
      "execution_count": 37,
      "id": "2b960c21",
      "metadata": {
        "colab": {
          "base_uri": "https://localhost:8080/"
        },
        "id": "2b960c21",
        "outputId": "5640cc7b-ed71-4a74-8762-70380785d109"
      },
      "outputs": [
        {
          "name": "stdout",
          "output_type": "stream",
          "text": [
            "\n",
            "🔁 Re-running the graph to demonstrate fault tolerance...\n",
            "⏳ Step 2 hanging... now manually interrupt from the notebook toolbar (STOP button)\n",
            "✅ Step 3 executed\n",
            "\n",
            "✅ Final State: {'input': 'start', 'step1': 'done', 'step2': 'done'}\n"
          ]
        }
      ],
      "source": [
        "# 6. Re-run to show fault-tolerant resume\n",
        "print(\"\\n🔁 Re-running the graph to demonstrate fault tolerance...\")\n",
        "final_state = graph.invoke(None, config={\"configurable\": {\"thread_id\": 'thread-1'}})\n",
        "print(\"\\n✅ Final State:\", final_state)"
      ]
    },
    {
      "cell_type": "code",
      "execution_count": 38,
      "id": "zJKYnxKXyG1p",
      "metadata": {
        "colab": {
          "base_uri": "https://localhost:8080/"
        },
        "id": "zJKYnxKXyG1p",
        "outputId": "73f7079e-889a-423e-c60b-89169a2c1785"
      },
      "outputs": [
        {
          "data": {
            "text/plain": [
              "StateSnapshot(values={'input': 'start', 'step1': 'done', 'step2': 'done'}, next=(), config={'configurable': {'thread_id': 'thread-1', 'checkpoint_ns': '', 'checkpoint_id': '1f0a2bc0-700e-6bb3-8003-60400a07cd83'}}, metadata={'source': 'loop', 'step': 3, 'parents': {}}, created_at='2025-10-06T13:54:50.353737+00:00', parent_config={'configurable': {'thread_id': 'thread-1', 'checkpoint_ns': '', 'checkpoint_id': '1f0a2bc0-700c-69bc-8002-9334602fcca1'}}, tasks=(), interrupts=())"
            ]
          },
          "execution_count": 38,
          "metadata": {},
          "output_type": "execute_result"
        }
      ],
      "source": [
        "graph.get_state({\"configurable\": {\"thread_id\": 'thread-1'}})"
      ]
    },
    {
      "cell_type": "code",
      "execution_count": 39,
      "id": "e8956087",
      "metadata": {
        "colab": {
          "base_uri": "https://localhost:8080/"
        },
        "id": "e8956087",
        "outputId": "cd6faef8-2350-49d9-8fdb-fb94d5ec8ebf"
      },
      "outputs": [
        {
          "data": {
            "text/plain": [
              "[StateSnapshot(values={'input': 'start', 'step1': 'done', 'step2': 'done'}, next=(), config={'configurable': {'thread_id': 'thread-1', 'checkpoint_ns': '', 'checkpoint_id': '1f0a2bc0-700e-6bb3-8003-60400a07cd83'}}, metadata={'source': 'loop', 'step': 3, 'parents': {}}, created_at='2025-10-06T13:54:50.353737+00:00', parent_config={'configurable': {'thread_id': 'thread-1', 'checkpoint_ns': '', 'checkpoint_id': '1f0a2bc0-700c-69bc-8002-9334602fcca1'}}, tasks=(), interrupts=()),\n",
              " StateSnapshot(values={'input': 'start', 'step1': 'done', 'step2': 'done'}, next=('step_3',), config={'configurable': {'thread_id': 'thread-1', 'checkpoint_ns': '', 'checkpoint_id': '1f0a2bc0-700c-69bc-8002-9334602fcca1'}}, metadata={'source': 'loop', 'step': 2, 'parents': {}}, created_at='2025-10-06T13:54:50.352860+00:00', parent_config={'configurable': {'thread_id': 'thread-1', 'checkpoint_ns': '', 'checkpoint_id': '1f0a2bbf-834a-6fd1-8001-5ab55332187e'}}, tasks=(PregelTask(id='09cf443a-91e1-f6b1-c45f-131605eb2118', name='step_3', path=('__pregel_pull', 'step_3'), error=None, interrupts=(), state=None, result={}),), interrupts=()),\n",
              " StateSnapshot(values={'input': 'start', 'step1': 'done'}, next=('step_2',), config={'configurable': {'thread_id': 'thread-1', 'checkpoint_ns': '', 'checkpoint_id': '1f0a2bbf-834a-6fd1-8001-5ab55332187e'}}, metadata={'source': 'loop', 'step': 1, 'parents': {}}, created_at='2025-10-06T13:54:25.527160+00:00', parent_config={'configurable': {'thread_id': 'thread-1', 'checkpoint_ns': '', 'checkpoint_id': '1f0a2bbf-8345-66ea-8000-ebb8c34f14b8'}}, tasks=(PregelTask(id='a718b8fb-29e3-cd88-911b-33977f2a3d52', name='step_2', path=('__pregel_pull', 'step_2'), error=None, interrupts=(), state=None, result={'step2': 'done'}),), interrupts=()),\n",
              " StateSnapshot(values={'input': 'start'}, next=('step_1',), config={'configurable': {'thread_id': 'thread-1', 'checkpoint_ns': '', 'checkpoint_id': '1f0a2bbf-8345-66ea-8000-ebb8c34f14b8'}}, metadata={'source': 'loop', 'step': 0, 'parents': {}}, created_at='2025-10-06T13:54:25.524885+00:00', parent_config={'configurable': {'thread_id': 'thread-1', 'checkpoint_ns': '', 'checkpoint_id': '1f0a2bbf-8341-65dc-bfff-fc3d3bc58951'}}, tasks=(PregelTask(id='5a8b8c6e-9dd4-0d18-5af2-57cc0999d89f', name='step_1', path=('__pregel_pull', 'step_1'), error=None, interrupts=(), state=None, result={'step1': 'done', 'input': 'start'}),), interrupts=()),\n",
              " StateSnapshot(values={}, next=('__start__',), config={'configurable': {'thread_id': 'thread-1', 'checkpoint_ns': '', 'checkpoint_id': '1f0a2bbf-8341-65dc-bfff-fc3d3bc58951'}}, metadata={'source': 'input', 'step': -1, 'parents': {}}, created_at='2025-10-06T13:54:25.523217+00:00', parent_config=None, tasks=(PregelTask(id='30c50841-590a-a506-b16c-6daf2f521eeb', name='__start__', path=('__pregel_pull', '__start__'), error=None, interrupts=(), state=None, result={'input': 'start'}),), interrupts=())]"
            ]
          },
          "execution_count": 39,
          "metadata": {},
          "output_type": "execute_result"
        }
      ],
      "source": [
        "list(graph.get_state_history({\"configurable\": {\"thread_id\": 'thread-1'}}))"
      ]
    },
    {
      "cell_type": "code",
      "execution_count": null,
      "id": "-W-mhRvdzc-b",
      "metadata": {
        "id": "-W-mhRvdzc-b"
      },
      "outputs": [],
      "source": []
    }
  ],
  "metadata": {
    "colab": {
      "provenance": []
    },
    "kernelspec": {
      "display_name": "Python 3",
      "language": "python",
      "name": "python3"
    },
    "language_info": {
      "codemirror_mode": {
        "name": "ipython",
        "version": 3
      },
      "file_extension": ".py",
      "mimetype": "text/x-python",
      "name": "python",
      "nbconvert_exporter": "python",
      "pygments_lexer": "ipython3",
      "version": "3.12.4"
    }
  },
  "nbformat": 4,
  "nbformat_minor": 5
}
